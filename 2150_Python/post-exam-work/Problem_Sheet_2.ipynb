{
 "cells": [
  {
   "cell_type": "markdown",
   "metadata": {},
   "source": [
    "<div class=\"info\">\n",
    "PROBLEM SHEET 2: The aim of this problem sheet is to investigate using the list variable type.\n",
    "   \n",
    "Then we will create our first user defined functions\n"
   ]
  },
  {
   "cell_type": "markdown",
   "metadata": {},
   "source": [
    "<div class=\"exercise\">\n",
    "    Problem Sheet 2, Ex1: Lists"
   ]
  },
  {
   "cell_type": "markdown",
   "metadata": {},
   "source": [
    "* Create a list containing the first twenty elements of the periodic table (using full name, not just symbol), **Note** do not use the word **list** as the variable name for your list as it is already in use as the function <span style=\"color:purple\">list()</span>.\n",
    "* Create a second list containing the next ten elements of the periodic table.\n",
    "* Add a comment to your code to explain the difference between adding (Concatenating) the lists together or using the <span style=\"color:purple\">append()</span> function to join the two lists.\n",
    "* Combine your two lists to make a third list containing 30 elements, Use the <span style=\"color:purple\">len()</span> function to confirm the new list has 30 elements.\n",
    "* Print the 23rd element in your third list.\n",
    "\n",
    "We will use this list in later exercises (once the object has been created in remains in the memory)"
   ]
  },
  {
   "cell_type": "code",
   "execution_count": 2,
   "metadata": {},
   "outputs": [
    {
     "name": "stdout",
     "output_type": "stream",
     "text": [
      "Length: 30\n",
      "23rd Element: Vanadium\n"
     ]
    }
   ],
   "source": [
    "# Enter your code for EX1 here:\n",
    "\n",
    "periodic_table1 = [\"Hydrogen\",\n",
    "                  \"Helium\",\n",
    "                  \"Lithium\",\n",
    "                  \"Beryllium\",\n",
    "                  \"Boron\",\n",
    "                  \"Carbon\",\n",
    "                  \"Nitrogen\",\n",
    "                  \"Oxygen\",\n",
    "                  \"Fluorine\",\n",
    "                  \"Neon\",\n",
    "                  \"Sodium\",\n",
    "                  \"Magnesium\",\n",
    "                  \"Aluminium\",\n",
    "                  \"Silicon\",\n",
    "                  \"Phosphorus\",\n",
    "                  \"Sulphur\",\n",
    "                  \"Chlorine\",\n",
    "                  \"Argon\",\n",
    "                  \"Potassium\",\n",
    "                  \"Calcium\"]\n",
    "\n",
    "periodic_table2 = [\"Scandium\",\n",
    "                   \"Titanium\",\n",
    "                   \"Vanadium\",\n",
    "                   \"Chromium\",\n",
    "                   \"Manganese\",\n",
    "                   \"Iron\",\n",
    "                   \"Cobalt\",\n",
    "                   \"Nickel\",\n",
    "                   \"Copper\",\n",
    "                   \"Zinc\"]\n",
    "\n",
    "## Append can add an element directly into an existing list\n",
    "## Concat can only add two of the same types together, so it needs to be passed a list to add\n",
    "\n",
    "for i in periodic_table2:\n",
    "    periodic_table1.append(i)\n",
    "print(f\"Length: {len(periodic_table1)}\")\n",
    "print(f\"23rd Element: {periodic_table1[22]}\")\n",
    "## Remember: zero indexed"
   ]
  },
  {
   "cell_type": "markdown",
   "metadata": {},
   "source": [
    "<div class=\"exercise\">\n",
    "    Problem Sheet 2, Ex2: Lists and control structures"
   ]
  },
  {
   "cell_type": "markdown",
   "metadata": {},
   "source": [
    "* Write a program to create and print a new list containing the elements from your list (30 element list from Ex1) that begin with the letter **s**.\n",
    "* Write a program to create and print a new list containing the elements in your list (from Ex1) that consist of only 4 characters.\n"
   ]
  },
  {
   "cell_type": "code",
   "execution_count": 4,
   "metadata": {},
   "outputs": [
    {
     "name": "stdout",
     "output_type": "stream",
     "text": [
      "['Sodium', 'Silicon', 'Sulphur', 'Scandium']\n",
      "['Neon', 'Iron', 'Zinc']\n"
     ]
    }
   ],
   "source": [
    "# Enter your code for EX2 here:\n",
    "s_table = []\n",
    "four_table = []\n",
    "\n",
    "for i in periodic_table1:\n",
    "    if str(i)[0].lower() == \"s\":\n",
    "        s_table.append(i)\n",
    "\n",
    "for j in periodic_table1:\n",
    "    if len(j) == 4:\n",
    "        four_table.append(j)\n",
    "\n",
    "print(s_table)\n",
    "print(four_table)\n"
   ]
  },
  {
   "cell_type": "markdown",
   "metadata": {},
   "source": [
    "<div class=\"exercise\">\n",
    "    Problem Sheet 2, EX3: User defined functions"
   ]
  },
  {
   "cell_type": "markdown",
   "metadata": {},
   "source": [
    "An arbitrary triangle can be described by the coordinates of its three vertices: $(x_1, y_1), (x_2, y_2), (x_3, y_3)$. \n",
    "\n",
    "The area of the triangle is given by the formula:\n",
    "$A = \\frac{1}{2}[x_2y_3 - x_3y_2 - x_1y_3 + x_3y_1 + x_1y_2 - x_2y_1]$\n",
    "\n",
    "* Write a **function** <span style=\"color:blue\">area(vertices)</span> that returns the area of a triangle whose vertices are specified by the argument *vertices*, which is a nested list of the vertex coordinates. For example, vertices can be [[0,0], [1,0], [0,2]] if the three corners of the triangle have coordinates (0, 0), (1, 0) and (0, 2). **Note**. this means a user defined function in python (i.e <span style=\"color:purple\">def</span> <span style=\"color:blue\">functionname</span>:).\n",
    "* Test the area function on a triangle with known area.\n",
    "* Add a docstring to your function area(vertices) to explain to the user what the arguments of the function need to be and what it is going to return."
   ]
  },
  {
   "cell_type": "code",
   "execution_count": 15,
   "metadata": {
    "cocalc": {
     "outputs": {
      "0": {
       "name": "input",
       "opts": {
        "password": false,
        "prompt": "Enter height"
       },
       "output_type": "stream",
       "value": "3"
      }
     }
    }
   },
   "outputs": [
    {
     "name": "stdout",
     "output_type": "stream",
     "text": [
      "Area : 0.5\n"
     ]
    }
   ],
   "source": [
    "# Enter your answer for EX3 here:\n",
    "def area(coords):\n",
    "    \"\"\"A function that returns the area of a triangle when passed the vertices in a 2-D array of [[x, y],...]\"\"\"\n",
    "    x1, y1, x2, y2, x3, y3 = coords[0][0], coords[0][1], coords[1][0], coords[1][1], coords[2][0], coords[2][1]\n",
    "    return 0.5 * ((x2*y3) - (x3*y2) - (x1*y3) + (x3*y1) + (x1*y2) - (x2*y1))\n",
    "\n",
    "print(f\"Area : {area([[1, 2], [2, 2], [2, 3]])}\")"
   ]
  },
  {
   "cell_type": "markdown",
   "metadata": {},
   "source": [
    "<div class=\"exercise\">\n",
    "    Problem Sheet 2, Ex4: Functions operating on Lists"
   ]
  },
  {
   "cell_type": "markdown",
   "metadata": {},
   "source": [
    "Computing the length of a path. Some object is moving along a path in the plane. At $n$ points of time we have recorded the corresponding $(x, y)$ positions of the object:\n",
    "\\begin{equation}\n",
    "(x_0, y_0), (x_1, y_2), . . , (x_{n-1}, y_{n-1})\n",
    "\\end{equation}\n",
    "The total length $L$ of the path from ($x_0, y_0)~$ to $(x_{n-1}, y_{n-1})$ is the sum of all the individual line segments $((x_{i-1}, y_{i-1}) to (x_i, y_i),$  $i = 1, . . . , n-1:$\n",
    "\\begin{equation}\n",
    "L=\\sum_{i=1}^{n-1}\\sqrt{(x_i-x_{i-1})^2+(y_i-y_{i-1})^2}\n",
    "\\end{equation}\n",
    "* Make a **function** <span style=\"color:blue\">pathlength(x, y)</span> for computing $L$ according to the formula. The arguments $x$ and $y$ hold all the $x_0, . . . , x_{n-1}$ and $y_0, . . . , y_{n-1}$ coordinates, respectively.\n",
    "* Test the function on a triangular path with the four points (1, 1), (2, 1), (1, 2), and (1, 1).\n"
   ]
  },
  {
   "cell_type": "code",
   "execution_count": 16,
   "metadata": {},
   "outputs": [
    {
     "name": "stdout",
     "output_type": "stream",
     "text": [
      "3.414213562373095\n"
     ]
    }
   ],
   "source": [
    "# Enter your code for EX4 here\n",
    "import math\n",
    "\n",
    "def pathlength(x, y):\n",
    "    \"\"\"Returns the path length travelled along line given the coordinates ([x1, x2...] , [y1, y2...])\"\"\"\n",
    "    length = 0\n",
    "    if len(x) != len(y):\n",
    "        print(\"Size of coordinate lists are not the same\")\n",
    "    else:\n",
    "        for i in range(1, len(x), 1):\n",
    "            length += math.sqrt(((x[i] - x[i-1])**2) + ((y[i] - y[i-1])**2))\n",
    "    return length\n",
    "\n",
    "print(pathlength([1, 2, 1, 1], [1, 1, 2, 1]))"
   ]
  },
  {
   "cell_type": "markdown",
   "metadata": {},
   "source": [
    "<div class=\"exercise\">\n",
    "    Problem Sheet 2, Ex5: Approximate pi. "
   ]
  },
  {
   "cell_type": "markdown",
   "metadata": {},
   "source": [
    "The value of $\\pi$ equals the circumference of a circle with radius $1/2$. Suppose we approximate the circumference by a polygon through $N+1$ points on the circle. The length of this polygon can be found using your <span style=\"color:blue\">pathlength(x, y)</span> function from PS2 Ex4.\n",
    "* Compute $N+1$ points $(x_i, y_i)$ along a circle with radius $1/2$ according to the formula:\n",
    "\n",
    "$x_i =\\frac{1}{2}\\cos(2\\pi i/N),~~~y_i=\\frac{1}{2}\\sin(2\\pi i/N),~~~i = 0, . . . ,N .$\n",
    "\n",
    "* Call your pathlength function and write out the error in the approximation of $pi$ for\n",
    "$N = 2^{k}; k = 2; 3; ...; 10:$"
   ]
  },
  {
   "cell_type": "code",
   "execution_count": 17,
   "metadata": {},
   "outputs": [
    {
     "name": "stdout",
     "output_type": "stream",
     "text": [
      "Pi error for 2^2 = 32.5%\n",
      "Pi error for 2^3 = 14.7%\n",
      "Pi error for 2^4 = 6.9%\n",
      "Pi error for 2^5 = 3.3000000000000003%\n",
      "Pi error for 2^6 = 1.6%\n",
      "Pi error for 2^7 = 0.8%\n",
      "Pi error for 2^8 = 0.4%\n",
      "Pi error for 2^9 = 0.2%\n",
      "Pi error for 2^10 = 0.1%\n"
     ]
    }
   ],
   "source": [
    "# Enter your code for Ex5 here:\n",
    "import math\n",
    "\n",
    "def pathlength(x, y):\n",
    "    \"\"\"Returns the path length travelled along line given the coordinates ([x1, x2...] , [y1, y2...])\"\"\"\n",
    "    length = 0\n",
    "    if len(x) != len(y):\n",
    "        print(\"Size of coordinate lists are not the same\")\n",
    "    else:\n",
    "        for i in range(1, len(x), 1):\n",
    "            length += math.sqrt(((x[i] - x[i-1])**2) + ((y[i] - y[i-1])**2))\n",
    "    return length\n",
    "\n",
    "def gen_circle_coords(n):\n",
    "    x = []\n",
    "    y = []\n",
    "    for j in range(n):\n",
    "        x.append(0.5 * math.cos(2 * math.pi * (j/n)))\n",
    "        y.append(0.5 * math.sin(2 * math.pi * (j/n)))\n",
    "    return x, y\n",
    "\n",
    "for p in range (2, 11, 1):\n",
    "    print(f\"Pi error for 2^{p} = {round(((math.pi - pathlength(*gen_circle_coords(2**p))) / math.pi), 3) * 100}%\")"
   ]
  },
  {
   "cell_type": "markdown",
   "metadata": {},
   "source": [
    "### Next Step\n",
    "\n",
    "Save your code (ydrive, usb, dropbox etc) then either return to the [Start Menu](PH2150_Start_here.ipynb), or move on to [Problem Sheet 3](Problem_Sheet_3.ipynb)"
   ]
  },
  {
   "cell_type": "code",
   "execution_count": 18,
   "metadata": {},
   "outputs": [
    {
     "data": {
      "text/html": [
       "<style>\n",
       "pre {\n",
       "    background-color: #fcf2f2;\n",
       "    padding: 0.5em;\n",
       "    margin: 0.5em;\n",
       "    -webkit-user-select: none;\n",
       "    -khtml-user-select: none;\n",
       "    -moz-user-select: none;\n",
       "    -ms-user-select: none;\n",
       "    -o-user-select: none;\n",
       "    user-select: none;\n",
       "\tborder-radius: 5px;\n",
       "}\n",
       ".code {    \n",
       "    border-color: RebeccaPurple;\n",
       "    border-left: 5px solid RebeccaPurple;\n",
       "\tbackground-color: #fcf2f2;\n",
       "    padding: 0.5em;\n",
       "    margin: 0.5em;\n",
       "    -webkit-user-select: none;\n",
       "    -khtml-user-select: none;\n",
       "    -moz-user-select: none;\n",
       "    -ms-user-select: none;\n",
       "    -o-user-select: none;\n",
       "    user-select: none;\n",
       "    border-radius: 5px;\n",
       "    color: black;\n",
       "    }\n",
       "pre.out {    \n",
       "    border-color: black;\n",
       "    border-left: 5px solid black;\n",
       "\tbackground-color: #fcf2f2;\n",
       "    padding: 0.5em;\n",
       "    margin: 0.5em;\n",
       "    }\n",
       "pre.error {    \n",
       "    border-color: red;\n",
       "    border-left: 5px solid red;\n",
       "\tbackground-color: #fcf2f2;\n",
       "    padding: 0.5em;\n",
       "    margin: 0.5em;\n",
       "    }\n",
       "div.info {\n",
       "\tbackground-color: #fcf2f2;\n",
       "    border-color: blue;\n",
       "    border: 5px solid blue;\n",
       "\tmargin: 0.5em 5em 0.5em 5em;\n",
       "\tpadding: 0.5em;\n",
       "\tborder-radius: 10px;\n",
       "    color: black;\n",
       "}\n",
       ".exercise {\n",
       "\tbackground-color: #efefef;\n",
       "    border-left: 5px solid green;\n",
       "\tmargin: 0.5em;\n",
       "\tpadding: 0.5em;\n",
       "\tborder-radius: 5px;\n",
       "    color: black;\n",
       "}\n",
       ".exercise:before {\n",
       "    content: \"Exercise: \";\n",
       "    font-size: 20px;\n",
       "    font-weight: bold;\n",
       "}\n",
       ".code pre {    \n",
       "    padding: 0;\n",
       "    margin: 0;\n",
       "    background-color: #fcf2f2;\n",
       "    color: black;\n",
       "    }\n",
       ".code pre code {\n",
       "    background-color: #fcf2f2;\n",
       "    color: black;\n",
       "}\n",
       ".waypoint {\n",
       "    background-color: #efefef;\n",
       "    border-left: 5px solid orange;\n",
       "    margin: 0.5em;\n",
       "    padding: 0.5em;\n",
       "    border-radius: 5px;\n",
       "}\n",
       ".waypoint:before {\n",
       "    content: \"Waypoint: \";\n",
       "    font-size: 20px;\n",
       "    font-weight: bold;\n",
       "}\n",
       "iframe {\n",
       "    margin: 0 auto;\n",
       "    display: block;\n",
       "    }\n",
       "</style>"
      ],
      "text/plain": [
       "<IPython.core.display.HTML object>"
      ]
     },
     "execution_count": 18,
     "metadata": {},
     "output_type": "execute_result"
    }
   ],
   "source": [
    "#ignore this, it's something that helps styling the notebook.\n",
    "from IPython.core.display import HTML\n",
    "def css_styling():\n",
    "    styles = open(\"custom.css\", \"r\").read()\n",
    "    return HTML(styles)\n",
    "css_styling()"
   ]
  }
 ],
 "metadata": {
  "kernelspec": {
   "display_name": "Python 3",
   "language": "python",
   "name": "python3"
  },
  "language_info": {
   "codemirror_mode": {
    "name": "ipython",
    "version": 3
   },
   "file_extension": ".py",
   "mimetype": "text/x-python",
   "name": "python",
   "nbconvert_exporter": "python",
   "pygments_lexer": "ipython3",
   "version": "3.6.9"
  }
 },
 "nbformat": 4,
 "nbformat_minor": 4
}
