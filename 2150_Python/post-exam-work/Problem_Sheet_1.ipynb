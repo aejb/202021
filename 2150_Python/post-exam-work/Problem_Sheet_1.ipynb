{
 "cells": [
  {
   "cell_type": "markdown",
   "metadata": {},
   "source": [
    "<div class=\"info\">\n",
    "PROBLEM SHEET 1: The aim of this first problem sheet is to introduce you to the environment in which we will be running Python during the post exam period. The computers in the teaching lab have several version of Python installed and as we will see it can be used in different ways. When we return to onsite lab sessions we will be using the Anaconda installation, with a Python 3.x version. However for now we will use the CoCalc.com cloud based servers accessed through a web browser.\n",
    "\n"
   ]
  },
  {
   "cell_type": "markdown",
   "metadata": {},
   "source": [
    "<div class=\"exercise\">\n",
    "    Problem Sheet 1, Ex1: Creating new cells in the Jupyter notebook"
   ]
  },
  {
   "cell_type": "markdown",
   "metadata": {},
   "source": [
    "* Create a new **Code** cell below, inside the **code** cell create a variable called *weekday* and set it's value to the *string* that is the name of the day when you type it (i.e Monday)\n",
    "* Create a new **Markdown** cell below, inside the **Markdown** cell write your name and candidate number in bold, make a indented list (i.e. like this list of questions, double clicking on a box shows you the code) of your three favourite films and use $\\LaTeX$ math mode to write down Einstein's equation that shows that energy and mass are interchangeable."
   ]
  },
  {
   "cell_type": "code",
   "execution_count": null,
   "metadata": {
    "pycharm": {
     "name": "#%%\n"
    }
   },
   "outputs": [],
   "source": [
    "weekday = \"Monday\""
   ]
  },
  {
   "cell_type": "markdown",
   "metadata": {
    "pycharm": {
     "name": "#%% md\n"
    }
   },
   "source": [
    "**Thomas Bass, 2004375**\n",
    "\n",
    "* Interstellar\n",
    "* Knives Out\n",
    "* Apollo 13\n",
    "\n",
    "$E = mc^2$"
   ]
  },
  {
   "cell_type": "markdown",
   "metadata": {},
   "source": [
    "<div class=\"exercise\">\n",
    "    Problem Sheet 1, Ex2: Using Python as a calculator"
   ]
  },
  {
   "cell_type": "markdown",
   "metadata": {},
   "source": [
    "In the code window below (marked enter your answer for EX2 here), calculate and print to screen\n",
    "\n",
    "* The result of 4/7 where 4 and 7 are integer numbers\n",
    "* The square root of nineteen\n",
    "* The factorial of 19\n",
    "* The sine of 37 degrees"
   ]
  },
  {
   "cell_type": "code",
   "execution_count": null,
   "metadata": {
    "pycharm": {
     "is_executing": true
    }
   },
   "outputs": [],
   "source": [
    "# Using the hash symbol allows you to include comments in your code which will not be interpreted by python\n",
    "# If I type a list of calculations, such as:\n",
    "3+4\n",
    "5*6\n",
    "22/3.3 #and then run the code cell (either by holding shift+enter or the run button)\n"
   ]
  },
  {
   "cell_type": "code",
   "execution_count": null,
   "metadata": {
    "pycharm": {
     "is_executing": true
    }
   },
   "outputs": [],
   "source": [
    "#Then I only see the last output, I did not tell Python to do anything with the calculations, if however I use the print() function:\n",
    "print(3+4)\n",
    "print(5*6)\n",
    "print(22/3.3) #Also notice that the Jupyter notebooks has automatically change the colour for comments and functions etc"
   ]
  },
  {
   "cell_type": "code",
   "execution_count": null,
   "metadata": {
    "pycharm": {
     "is_executing": true
    }
   },
   "outputs": [],
   "source": [
    "# Then I see that all the values have been printed to the screen, I can learn more about how print() works by using the help() function, with print as the argument (the value inside the brackets)\n",
    "help(print) #this displays information about the function called it's docstring"
   ]
  },
  {
   "cell_type": "code",
   "execution_count": null,
   "metadata": {
    "pycharm": {
     "is_executing": true
    }
   },
   "outputs": [],
   "source": [
    "# Note that some of these basic maths operations are not available in the standard python library if you try\n",
    "sin(10)\n",
    "# You will recieve a NameError: name 'sin'is not defined\n",
    "# The functions can be found in the math module, to access this you will first need to import the functions into your code (i.e. import math) loads the names, dir(math) will return a list of the names of all of the functions in the math module,\n",
    "# math.funcname() will let you use function (i.e to find the log of 10, you type math.log(10), this tells python to use the log function from the math module)\n",
    "# Use the help() function to learn what the function in the module do."
   ]
  },
  {
   "cell_type": "code",
   "execution_count": 11,
   "metadata": {},
   "outputs": [
    {
     "name": "stdout",
     "output_type": "stream",
     "text": [
      "4/7 = 0.5714285714285714\n",
      "root 19 = 4.358898943540674\n",
      "19! = 121645100408832000\n",
      "sin(37deg) = 0.6018150231520483\n"
     ]
    }
   ],
   "source": [
    "# Enter your answer for EX2 here:\n",
    "import math\n",
    "\n",
    "## Result of 4/7\n",
    "print(f\"4/7 = {int(4)/int(7)}\")\n",
    "\n",
    "## The square root of nineteen\n",
    "print(f\"root 19 = {math.sqrt(19)}\")\n",
    "\n",
    "## The factorial of 19\n",
    "print(f\"19! = {math.factorial(19)}\")\n",
    "\n",
    "## The sine of 37 degrees\n",
    "print(f\"sin(37deg) = {math.sin(math.radians(37))}\")"
   ]
  },
  {
   "cell_type": "markdown",
   "metadata": {},
   "source": [
    "<div class=\"exercise\">\n",
    "    Problem Sheet 1, EX3: Requesting inputs from users and returning the output after evaluation:"
   ]
  },
  {
   "cell_type": "markdown",
   "metadata": {},
   "source": [
    "* A ball is dropped from a tower of height $h$, built on level ground. The ball has initial velocity zero and accelerates downwards under gravity.\n",
    "* Write a program that asks the user to enter the height in meters of the tower and a time interval $t$ in seconds (using the input function), then prints on the screen the height of the ball from the ground at time $t$ after it is dropped, ignoring air resistance."
   ]
  },
  {
   "cell_type": "code",
   "execution_count": 18,
   "metadata": {
    "cocalc": {
     "outputs": {
      "0": {
       "name": "input",
       "opts": {
        "password": false,
        "prompt": "Enter height"
       },
       "output_type": "stream",
       "value": "3"
      }
     }
    }
   },
   "outputs": [
    {
     "name": "stdout",
     "output_type": "stream",
     "text": [
      "Height of ball after time 1.0 = 5.095m\n"
     ]
    }
   ],
   "source": [
    "# Enter your answer for EX3 here:\n",
    "h = int(input(\"Enter height\"))\n",
    "t = float(input(\"Enter time\"))\n",
    "print(f\"Height of ball after time {t} = {round((h - (0.5 * 9.81 * (t*t))), 3)}m\")\n",
    "\n",
    "## NB: this does not account for the ball having hit the ground. For this:\n",
    "## r = h - (0.5 * 9.81 * (t*t))\n",
    "## if r <= 0:\n",
    "##      print(\"Ball has hit ground\")\n",
    "## else:\n",
    "##      print(f\"Height of ball after time {t} = {round(r, 3)}m\")"
   ]
  },
  {
   "cell_type": "markdown",
   "metadata": {},
   "source": [
    "<div class=\"exercise\">\n",
    "    Problem Sheet 1, Ex4: A question to practice requesting inputs from users and returning the output after evaluation:"
   ]
  },
  {
   "cell_type": "markdown",
   "metadata": {},
   "source": [
    "\n",
    "A satellite is to be launched into a circular orbit around the Earth so that it orbits the planet once every $T$ seconds.\n",
    "\n",
    "*  Show (in the Markdown cell) that the altitude $h$ above the Earths surface that the satellite must have is $h = (GMT^2/4\\pi^2)^{1/3} -R$, where $G = 6.67$x$10^{-11}\\,\\mathrm{m}^3\\mathrm{kg}^{-1}\\mathrm{s}^{-2}$ is Newtons gravitational constant, $M = 5.97$x$10^{24}\\,\\mathrm{kg}$ is the mass of the Earth, and $R = 6371\\,\\mathrm{km}$ is its radius. Before writing a program it is important that you understand what your variables are and what you want the algorithm to do.\n",
    "* Write a program that asks the user to enter the desired value of $T$ and then calculates and prints out the correct altitude in meters.\n",
    "* Use your program to calculate the altitudes of satellites that orbit the Earth once a day (so-called geosynchronous orbit), once every 90 minutes, and once every 45 minutes.\n",
    "* What do you conclude from the last of these calculations?\n",
    "\n"
   ]
  },
  {
   "cell_type": "markdown",
   "metadata": {},
   "source": [
    "Write your answer to the first part here (**Hint:** Remind yourself of Kepler's Third Law)\n",
    "\n",
    "$\\text{Using } F=ma \\text{, } a=\\frac{v^2}r\\text{, and }F=GMm/r^2$\n",
    "\n",
    "$\\text{where }r\\text{ is the distance from orbit to centre of orbiting body}$\n",
    "\n",
    "$\\text{Centripetal force: }F_c = \\frac{mv^2}r$\n",
    "\n",
    "$\\text{Gravitational force: } F_g = \\frac{GMm}{r^2}$\n",
    "\n",
    "$\\text{Forces are equal}\\therefore v^2=\\frac{GM}r$\n",
    "\n",
    "$v = \\frac dt=\\frac{2\\pi r}T$\n",
    "\n",
    "$\\therefore \\frac{4\\pi^2r^2}{T^2}=\\frac{GM}r$\n",
    "\n",
    "$\\therefore 4\\pi^2r^3=T^2GM$\n",
    "\n",
    "$\\therefore r =\\ ^3\\sqrt{\\frac{GMT^2}{4\\pi^2}}$\n",
    "\n",
    "$h_\\text{orbit} = r_\\text{total} - R_{\\text{body}}$\n",
    "\n",
    "$\\therefore h =  (GMT^2/4\\pi^2)^{1/3} -R$"
   ]
  },
  {
   "cell_type": "code",
   "execution_count": 29,
   "metadata": {},
   "outputs": [
    {
     "name": "stdout",
     "output_type": "stream",
     "text": [
      "Orbit height: 377.484km\n",
      "GSO: 35855.91km\n",
      "90 Minutes: 279.322km\n",
      "45 Minutes: -2181.56km\n"
     ]
    }
   ],
   "source": [
    "import math\n",
    "# Enter your code for EX4 here (write a comment for the last part at the end of the code)\n",
    "G = 6.67 * 10**-11\n",
    "M = 5.97 * 10**24\n",
    "R = 6371000\n",
    "def altitude(time_period):\n",
    "    \"\"\"Returns the altitude of an orbit around earth in kilometers of the given time period in minutes\"\"\"\n",
    "    T = time_period * 60\n",
    "    x = (G*M*(T**2)) / (4 * (math.pi**2))\n",
    "    h = x**(1/3) - R\n",
    "    return round((h/1000), 3)\n",
    "\n",
    "print(f\"Orbit height: {altitude(int(input('Time in minutes: ')))}km\")\n",
    "print(f\"GSO: {altitude(1440)}km\")\n",
    "print(f\"90 Minutes: {altitude(90)}km\")\n",
    "print(f\"45 Minutes: {altitude(45)}km\")\n",
    "\n",
    "## This tells us that an orbit time period of 45 minutes is not possible"
   ]
  },
  {
   "cell_type": "markdown",
   "metadata": {},
   "source": [
    "<div class=\"exercise\">\n",
    "    Problem Sheet 1, Ex5: Writing to a file. "
   ]
  },
  {
   "cell_type": "markdown",
   "metadata": {},
   "source": [
    "* Using the write() method described in the notes, create a file containing the first law of thermodynamic:\n",
    " \n",
    "``In all cases in which work is produced by the agency of heat, a quantity of heat is consumed which\n",
    "is proportional to the work done; and conversely, by the expenditure of an equal quantity of work an equal quantity of heat is produced.''\n",
    "\n",
    "* Write a program to read out the sixth word of the string and then print the whole statement.\n",
    "\n",
    "* Print (to screen) a list of the functions that can operate on the string, \\emph{hint type the string name in the interpreter window followed by a '.' and then press tab (auto complete) to see available functions}"
   ]
  },
  {
   "cell_type": "code",
   "execution_count": 39,
   "metadata": {},
   "outputs": [
    {
     "name": "stdout",
     "output_type": "stream",
     "text": [
      "work\n",
      "In all cases in which work is produced by the agency of heat, a quantity of heat is consumed which is proportional to the work done; and conversely, by the expenditure of an equal quantity of work an equal quantity of heat is produced.\n",
      "\n",
      "__add__\n",
      "__class__\n",
      "__contains__\n",
      "__delattr__\n",
      "__dir__\n",
      "__doc__\n",
      "__eq__\n",
      "__format__\n",
      "__ge__\n",
      "__getattribute__\n",
      "__getitem__\n",
      "__getnewargs__\n",
      "__gt__\n",
      "__hash__\n",
      "__init__\n",
      "__init_subclass__\n",
      "__iter__\n",
      "__le__\n",
      "__len__\n",
      "__lt__\n",
      "__mod__\n",
      "__mul__\n",
      "__ne__\n",
      "__new__\n",
      "__reduce__\n",
      "__reduce_ex__\n",
      "__repr__\n",
      "__rmod__\n",
      "__rmul__\n",
      "__setattr__\n",
      "__sizeof__\n",
      "__str__\n",
      "__subclasshook__\n",
      "capitalize\n",
      "casefold\n",
      "center\n",
      "count\n",
      "encode\n",
      "endswith\n",
      "expandtabs\n",
      "find\n",
      "format\n",
      "format_map\n",
      "index\n",
      "isalnum\n",
      "isalpha\n",
      "isascii\n",
      "isdecimal\n",
      "isdigit\n",
      "isidentifier\n",
      "islower\n",
      "isnumeric\n",
      "isprintable\n",
      "isspace\n",
      "istitle\n",
      "isupper\n",
      "join\n",
      "ljust\n",
      "lower\n",
      "lstrip\n",
      "maketrans\n",
      "partition\n",
      "replace\n",
      "rfind\n",
      "rindex\n",
      "rjust\n",
      "rpartition\n",
      "rsplit\n",
      "rstrip\n",
      "split\n",
      "splitlines\n",
      "startswith\n",
      "strip\n",
      "swapcase\n",
      "title\n",
      "translate\n",
      "upper\n",
      "zfill\n"
     ]
    }
   ],
   "source": [
    "# Type your code for Ex4 here, I have cut a bit from the notes to remind you:\n",
    "# Open a file\n",
    "fo = open(\"1lt.txt\", \"w\" ) # makes an file object fo (could have assigned anyname here) which is the open file foo.txt, if it does not exist it will make it\n",
    "fo.write(\"In all cases in which work is produced by the agency of heat, a quantity of heat is consumed which is proportional to the work done; and conversely, by the expenditure of an equal quantity of work an equal quantity of heat is produced.\\n\" ) # writes a string to the file \\n gives new line\n",
    "fo.close()\n",
    "fr = open(\"1lt.txt\", \"r\")\n",
    "string = fr.read()\n",
    "print(string.split(\" \")[5])\n",
    "print(string)\n",
    "fr.close()\n",
    "\n",
    "for i in dir(string):\n",
    "    print(i)"
   ]
  },
  {
   "cell_type": "markdown",
   "metadata": {},
   "source": [
    "<div class=\"exercise\">\n",
    "    Problem Sheet 1, Ex6: Saving your work"
   ]
  },
  {
   "cell_type": "markdown",
   "metadata": {},
   "source": [
    "* We will be marking Problem Sheet 1 in the first week of the Autumn term, and files will be submitted via turnitin on the Moodle page, you should still have access to CoCalc in the Autumn but to ensure that you have access to the work that you have done download the code and save it on your favourite storage mechanism (I suggest your university y-drive, dropbox, and usb stick) each year someone always loses their work (laptops died or lost/stolen etc)"
   ]
  },
  {
   "cell_type": "markdown",
   "metadata": {},
   "source": [
    "### Next Step\n",
    "\n",
    "Either return to the [Start Menu](PH2150_Start_here.ipynb), or move on to [Problem Sheet 2](Problem_Sheet_2.ipynb)"
   ]
  },
  {
   "cell_type": "code",
   "execution_count": null,
   "metadata": {
    "pycharm": {
     "is_executing": true
    }
   },
   "outputs": [],
   "source": [
    "#ignore this, it's something that helps styling the notebook.\n",
    "from IPython.core.display import HTML\n",
    "def css_styling():\n",
    "    styles = open(\"custom.css\", \"r\").read()\n",
    "    return HTML(styles)\n",
    "css_styling()"
   ]
  }
 ],
 "metadata": {
  "kernelspec": {
   "display_name": "Python 3",
   "language": "python",
   "name": "python3"
  },
  "language_info": {
   "codemirror_mode": {
    "name": "ipython",
    "version": 3
   },
   "file_extension": ".py",
   "mimetype": "text/x-python",
   "name": "python",
   "nbconvert_exporter": "python",
   "pygments_lexer": "ipython3",
   "version": "3.6.9"
  }
 },
 "nbformat": 4,
 "nbformat_minor": 4
}
