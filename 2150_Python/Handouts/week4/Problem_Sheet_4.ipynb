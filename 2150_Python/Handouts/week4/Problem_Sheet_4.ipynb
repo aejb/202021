{
 "cells": [
  {
   "cell_type": "markdown",
   "metadata": {},
   "source": [
    "PROBLEM SHEET 4: This week we are going to continue learning how to manipulate and visualise arrays. matplotlib is probably the single most used Python package for 2D-graphics. It provides both a very quick way to visualize data from Python and the abilty to create publication-quality figures in many formats."
   ]
  },
  {
   "cell_type": "markdown",
   "metadata": {},
   "source": [
    "* http://matplotlib.org/ is an online resource showing many examples, clicking on a graph in the gallery opens the code that produced it.\n",
    "\n",
    "* https://matplotlib.org/resources/index.html contains many tutorials and videos to help you get started"
   ]
  },
  {
   "cell_type": "markdown",
   "metadata": {},
   "source": [
    "### Standard Header\n",
    "As we will be utilizing a number of packages with reasonably long names, we will adopt the _de facto_ standard module abbreviations in the following header.  We also ensure that our [division behavior is sensible](http://www.python.org/dev/peps/pep-0238/) by importing from `__future__`:  _i.e._, promotion to `double` will occur from `int` or `long` data types involving division:  `1/2 == 0.5`.  Although this is the default in Python 3, it is a trivial way to help this notebook work in Python 2 if that's what you are using."
   ]
  },
  {
   "cell_type": "code",
   "execution_count": 2,
   "metadata": {},
   "outputs": [],
   "source": [
    "#%matplotlib inline \n",
    "# this line is required for the plots to appear in the Jupyter cells, rather than launching the matplotlib GUI\n",
    "%matplotlib widget \n",
    "#this allows interactive view but you need to be in classic rather than CoCalc Jupyter notebook for this to work\n",
    "\n",
    "import matplotlib\n",
    "\n",
    "import numpy as np\n",
    "\n",
    "import matplotlib.pyplot as plt\n",
    "\n",
    "import math\n",
    "# Let printing work the same in Python 2 and 3\n",
    "\n",
    "# notice two underscores _ either side of future"
   ]
  },
  {
   "cell_type": "markdown",
   "metadata": {},
   "source": [
    "## PS4 Ex1: (Marks 2/10)\n",
    "* Plot the following equations over the domain $y \\in \\left[-1, 2\\right]$.\n",
    "    * $y = f(x) = x^2 \\exp(-x)$\n",
    "    * $y = f(x) = 1 + x + 3x^4$"
   ]
  },
  {
   "cell_type": "code",
   "execution_count": 7,
   "metadata": {},
   "outputs": [
    {
     "data": {
      "application/vnd.jupyter.widget-view+json": {
       "model_id": "7417039e61a44dc399d900a3ec5be456",
       "version_major": 2,
       "version_minor": 0
      },
      "text/plain": [
       "Canvas(toolbar=Toolbar(toolitems=[('Home', 'Reset original view', 'home', 'home'), ('Back', 'Back to previous …"
      ]
     },
     "metadata": {},
     "output_type": "display_data"
    },
    {
     "data": {
      "application/vnd.jupyter.widget-view+json": {
       "model_id": "c648ff0e2cc7430db436a7950cf6192b",
       "version_major": 2,
       "version_minor": 0
      },
      "text/plain": [
       "Canvas(toolbar=Toolbar(toolitems=[('Home', 'Reset original view', 'home', 'home'), ('Back', 'Back to previous …"
      ]
     },
     "metadata": {},
     "output_type": "display_data"
    },
    {
     "data": {
      "text/plain": [
       "Text(0.5, 1.0, 'Figure 2')"
      ]
     },
     "execution_count": 7,
     "metadata": {},
     "output_type": "execute_result"
    }
   ],
   "source": [
    "#PS4 Ex1:\n",
    "\n",
    "## Create figures\n",
    "fig1 = plt.figure()\n",
    "axe1 = fig1.add_subplot()\n",
    "fig2 = plt.figure()\n",
    "axe2 = fig2.add_subplot()\n",
    "\n",
    "## x^2e^-x\n",
    "axe1.set_title(\"Figure 1\")\n",
    "x1 = np.linspace(-1,2)\n",
    "## Lambda function for y\n",
    "y1 = np.vectorize(lambda x : x*x*math.exp(-1*x))\n",
    "axe1.plot(x1,y1(x1))\n",
    "\n",
    "## 1+x+3x^4\n",
    "axe2.set_title(\"Figure 2\")\n",
    "\n",
    "#plt.close('all')"
   ]
  },
  {
   "cell_type": "markdown",
   "metadata": {},
   "source": [
    "## PS4 Ex2: (Marks 4/10)\n",
    "\n",
    "* *Creating plots with matplotlib*. The task is to replicate the plots shown in the figure 1.\n",
    "The two plots should be produced within the same figure (in python these are referred to as subplots).\n",
    "* The x data can be generated using linspace()\n",
    "* Arrows etc. can be found by using annotate\n",
    "* The text can be produced using LaTex syntax.\n",
    "* After generating the figure save the output as a .png file (Portable Network Graphics Image)\n",
    "\n",
    "<left> <img src=\"PS4ex2.png\" style=\"max-width:90%\">\n",
    "    **Figure 1:** Two matplotlib subplots stacked "
   ]
  },
  {
   "cell_type": "code",
   "execution_count": null,
   "metadata": {},
   "outputs": [],
   "source": [
    "#PS4 Ex2:"
   ]
  },
  {
   "cell_type": "markdown",
   "metadata": {},
   "source": [
    "## PS4 Ex3: (Marks 2/10)\n",
    "\n",
    "In *Problem Sheet 3* you used the matplotlib function *imshow()* to map the array of scanning tunneling data (stm.dat) onto a colour map. One disadvantage of this type of view is that without the colour bar you cannot tell which part is high or low. \n",
    "\n",
    "* Using the same data (stm.dat) plot a 3D surface plot like that show in figure 2.\n",
    "\n",
    "<left> <img src=\"PS4-inferno.png\" style=\"max-width:100%\">\n",
    "    **Figure 2:** PS3’s STM data plotted using in 3D using matplotlib *plot_surface()*"
   ]
  },
  {
   "cell_type": "code",
   "execution_count": null,
   "metadata": {},
   "outputs": [],
   "source": [
    "#PS4 Ex3"
   ]
  },
  {
   "cell_type": "markdown",
   "metadata": {},
   "source": [
    "## PS4 Ex4: (Marks 2/10)\n",
    "### Importing image data into numpy arrays: \n",
    "import matplotlib.image as mpimg Package contains mpimg.imread, this returns an array from an image. For greyscale images the array\n",
    "is MxN, for RGB images the array is MxNx3. The base package can only deal with .png files, however the Python Image Library (PIL)comes as part of the package pillow installed as part of anaconda which can deal with other image file types.\n",
    "\n",
    "In MRI the response to a contrast agent can be charaterised using NMR phantoms, arrays of liquids with different concentrations of the agent. Figure 3 shows an image of a phantom, the lower subplot shows the result of slicing the array into a single colour channel.\n",
    "* Import the image 'NMR Phantom.png' as an array\n",
    "* Convert the image to single channel and show as a luminosity image, add a colour bar with scale.\n",
    "<left> <img src=\"NMRplusbar.png\" style=\"max-width:100%\">\n",
    "    **Figure 3:** Top subplot, NMR phantom loaded from `NMR Phantom.png`, bottom subplot shows pseudo colour image obtained by slicing the RGB image to a single channel (R, G, or B)."
   ]
  },
  {
   "cell_type": "code",
   "execution_count": null,
   "metadata": {},
   "outputs": [],
   "source": [
    "#PS4 Ex4:\n",
    "import matplotlib.image as mpimg # use this library to read in the imagwe NMR_Phantom.png as an array\n",
    "\n",
    "\n"
   ]
  },
  {
   "cell_type": "code",
   "execution_count": null,
   "metadata": {},
   "outputs": [],
   "source": [
    "#ignore this, it's something that helps styling the notebook.\n",
    "from IPython.core.display import HTML\n",
    "def css_styling():\n",
    "    styles = open(\"custom.css\", \"r\").read()\n",
    "    return HTML(styles)\n",
    "css_styling()"
   ]
  },
  {
   "cell_type": "code",
   "execution_count": null,
   "metadata": {},
   "outputs": [],
   "source": []
  },
  {
   "cell_type": "code",
   "execution_count": null,
   "metadata": {},
   "outputs": [],
   "source": []
  }
 ],
 "metadata": {
  "kernelspec": {
   "display_name": "Python 3",
   "language": "python",
   "name": "python3"
  },
  "language_info": {
   "codemirror_mode": {
    "name": "ipython",
    "version": 3
   },
   "file_extension": ".py",
   "mimetype": "text/x-python",
   "name": "python",
   "nbconvert_exporter": "python",
   "pygments_lexer": "ipython3",
   "version": "3.6.9"
  }
 },
 "nbformat": 4,
 "nbformat_minor": 4
}