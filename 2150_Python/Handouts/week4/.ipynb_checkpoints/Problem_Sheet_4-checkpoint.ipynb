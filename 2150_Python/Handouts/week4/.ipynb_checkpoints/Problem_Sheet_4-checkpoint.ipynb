{
 "cells": [
  {
   "cell_type": "markdown",
   "metadata": {},
   "source": [
    "PROBLEM SHEET 4: This week we are going to continue learning how to manipulate and visualise arrays. matplotlib is probably the single most used Python package for 2D-graphics. It provides both a very quick way to visualize data from Python and the abilty to create publication-quality figures in many formats."
   ]
  },
  {
   "cell_type": "markdown",
   "metadata": {},
   "source": [
    "* http://matplotlib.org/ is an online resource showing many examples, clicking on a graph in the gallery opens the code that produced it.\n",
    "\n",
    "* https://matplotlib.org/resources/index.html contains many tutorials and videos to help you get started"
   ]
  },
  {
   "cell_type": "markdown",
   "metadata": {},
   "source": [
    "### Standard Header\n",
    "As we will be utilizing a number of packages with reasonably long names, we will adopt the _de facto_ standard module abbreviations in the following header.  We also ensure that our [division behavior is sensible](http://www.python.org/dev/peps/pep-0238/) by importing from `__future__`:  _i.e._, promotion to `double` will occur from `int` or `long` data types involving division:  `1/2 == 0.5`.  Although this is the default in Python 3, it is a trivial way to help this notebook work in Python 2 if that's what you are using."
   ]
  },
  {
   "cell_type": "code",
   "execution_count": 1,
   "metadata": {},
   "outputs": [],
   "source": [
    "#%matplotlib inline \n",
    "# this line is required for the plots to appear in the Jupyter cells, rather than launching the matplotlib GUI\n",
    "%matplotlib widget \n",
    "#this allows interactive view but you need to be in classic rather than CoCalc Jupyter notebook for this to work\n",
    "\n",
    "import matplotlib\n",
    "\n",
    "import numpy as np\n",
    "\n",
    "import matplotlib.pyplot as plt\n",
    "\n",
    "import math\n",
    "# Let printing work the same in Python 2 and 3\n",
    "\n",
    "# notice two underscores _ either side of future"
   ]
  },
  {
   "cell_type": "markdown",
   "metadata": {},
   "source": [
    "## PS4 Ex1: (Marks 2/10)\n",
    "* Plot the following equations over the domain $y \\in \\left[-1, 2\\right]$.\n",
    "    * $y = f(x) = x^2 \\exp(-x)$\n",
    "    * $y = f(x) = 1 + x + 3x^4$"
   ]
  },
  {
   "cell_type": "code",
   "execution_count": 2,
   "metadata": {},
   "outputs": [
    {
     "data": {
      "application/vnd.jupyter.widget-view+json": {
       "model_id": "f1735623b4c64b53a896a8f6be6195a3",
       "version_major": 2,
       "version_minor": 0
      },
      "text/plain": [
       "Canvas(toolbar=Toolbar(toolitems=[('Home', 'Reset original view', 'home', 'home'), ('Back', 'Back to previous …"
      ]
     },
     "metadata": {},
     "output_type": "display_data"
    },
    {
     "data": {
      "application/vnd.jupyter.widget-view+json": {
       "model_id": "245be08130414df490a1f0738cca854d",
       "version_major": 2,
       "version_minor": 0
      },
      "text/plain": [
       "Canvas(toolbar=Toolbar(toolitems=[('Home', 'Reset original view', 'home', 'home'), ('Back', 'Back to previous …"
      ]
     },
     "metadata": {},
     "output_type": "display_data"
    },
    {
     "data": {
      "text/plain": [
       "[(-1.0, 2.0)]"
      ]
     },
     "execution_count": 2,
     "metadata": {},
     "output_type": "execute_result"
    }
   ],
   "source": [
    "#PS4 Ex1:\n",
    "\n",
    "## Create figures\n",
    "fig1 = plt.figure()\n",
    "axe1 = fig1.add_subplot()\n",
    "fig2 = plt.figure()\n",
    "axe2 = fig2.add_subplot()\n",
    "\n",
    "## x^2e^-x\n",
    "axe1.set_title(\"Figure 1\")\n",
    "x1 = np.linspace(-5,5,100)\n",
    "## Lambda function for y\n",
    "y1 = np.vectorize(lambda x : x*x*math.exp(-1*x))\n",
    "axe1.plot(x1,y1(x1))\n",
    "axe1.set(ylim=(-1,2))\n",
    "\n",
    "## 1+x+3x^4\n",
    "axe2.set_title(\"Figure 2\")\n",
    "x2 = np.linspace(-5,5,100)\n",
    "y2 = np.vectorize(lambda x : 1+x+(3*x**4))\n",
    "axe2.plot(x2, y2(x2))\n",
    "axe2.set(ylim=(-1,2))\n"
   ]
  },
  {
   "cell_type": "markdown",
   "metadata": {},
   "source": [
    "## PS4 Ex2: (Marks 4/10)\n",
    "\n",
    "* *Creating plots with matplotlib*. The task is to replicate the plots shown in the figure 1.\n",
    "The two plots should be produced within the same figure (in python these are referred to as subplots).\n",
    "* The x data can be generated using linspace()\n",
    "* Arrows etc. can be found by using annotate\n",
    "* The text can be produced using LaTex syntax.\n",
    "* After generating the figure save the output as a .png file (Portable Network Graphics Image)\n",
    "\n",
    "<left> <img src=\"PS4ex2.png\" style=\"max-width:90%\">\n",
    "    **Figure 1:** Two matplotlib subplots stacked "
   ]
  },
  {
   "cell_type": "code",
   "execution_count": 29,
   "metadata": {},
   "outputs": [
    {
     "name": "stderr",
     "output_type": "stream",
     "text": [
      "/home/ash/environments/env/lib/python3.6/site-packages/ipykernel_launcher.py:3: RuntimeWarning: More than 20 figures have been opened. Figures created through the pyplot interface (`matplotlib.pyplot.figure`) are retained until explicitly closed and may consume too much memory. (To control this warning, see the rcParam `figure.max_open_warning`).\n",
      "  This is separate from the ipykernel package so we can avoid doing imports until\n"
     ]
    },
    {
     "data": {
      "application/vnd.jupyter.widget-view+json": {
       "model_id": "adef418a59d6433f975232da54432080",
       "version_major": 2,
       "version_minor": 0
      },
      "text/plain": [
       "Canvas(toolbar=Toolbar(toolitems=[('Home', 'Reset original view', 'home', 'home'), ('Back', 'Back to previous …"
      ]
     },
     "metadata": {},
     "output_type": "display_data"
    },
    {
     "data": {
      "text/plain": [
       "Text(0.5235987755982988, 5, 'exp(0)=1')"
      ]
     },
     "execution_count": 29,
     "metadata": {},
     "output_type": "execute_result"
    }
   ],
   "source": [
    "#PS4 Ex2:\n",
    "\n",
    "fig = plt.figure()\n",
    "fig.suptitle(\"Figure showing two subplots, with points labelled using LaTex text\")\n",
    "axe1 = fig.add_subplot(2,1,1)\n",
    "axe2 = fig.add_subplot(2,1,2)\n",
    "\n",
    "\n",
    "## Subplot 1\n",
    "\n",
    "# Move left y-axis and bottom x-axis to centre, passing through (0,0)\n",
    "axe1.spines['left'].set_position('center')\n",
    "axe1.spines['bottom'].set_position('center')\n",
    "# Eliminate upper and right axes\n",
    "axe1.spines['right'].set_color('none')\n",
    "axe1.spines['top'].set_color('none')\n",
    "# Show ticks in the left and lower axes only\n",
    "axe1.xaxis.set_ticks_position('bottom')\n",
    "axe1.yaxis.set_ticks_position('left')\n",
    "# Set the x-axis ticks\n",
    "axe1.set_xticks([-np.pi,-np.pi/2,0,np.pi/2,np.pi])\n",
    "axe1.set_xticklabels([r'$-\\pi$',r'$-\\pi/2$','0',r'$\\pi/2$',r'$\\pi$'])\n",
    "# Set the y-axis ticks\n",
    "axe1.set_yticks([-1,0,1])\n",
    "axe1.set_yticklabels([r'-1',r'0',r'1'])\n",
    "# Create functions for plot\n",
    "x1 = np.linspace(-5,5,100)\n",
    "y1r = np.vectorize(lambda x : math.sin(x))\n",
    "y1b = np.vectorize(lambda x : math.cos(x))\n",
    "# Create plots and legend\n",
    "axe1.plot(x1,y1r(x1),'r',label=\"sine\")\n",
    "axe1.plot(x1,y1b(x1),'b',label=\"cosine\")\n",
    "axe1.legend(loc=2)\n",
    "# Create annotations\n",
    "axe1.plot((np.pi*2/3),(math.sqrt(3))/2,'ro') \n",
    "axe1.vlines(x=(np.pi*2/3), ymin=0, ymax=(math.sqrt(3))/2, color='r', linestyle='--')\n",
    "axe1.annotate(r'sin(2pi/3)=sqrt(3)/2', xy=((np.pi*2/3),(math.sqrt(3))/2), \n",
    "                          arrowprops=dict(arrowstyle=\"->\"),\n",
    "                          xytext=(np.pi, 1))\n",
    "axe1.plot((np.pi*2/3),-1/2,'bo') \n",
    "axe1.vlines(x=(np.pi*2/3), ymin=-1/2, ymax=0, color='b', linestyle='--')\n",
    "axe1.annotate(r'cos(2pi/3)=-1/2', xy=((np.pi*2/3),-1/2), \n",
    "                          arrowprops=dict(arrowstyle=\"->\"),\n",
    "                          xytext=(np.pi/8,-1))\n",
    "\n",
    "\n",
    "## Subplot 2\n",
    "# Set axes to positions\n",
    "axe2.spines['left'].set_position('center')\n",
    "axe2.spines['right'].set_color('none')\n",
    "axe2.spines['top'].set_color('none')\n",
    "# Set tick positions\n",
    "axe2.xaxis.set_ticks_position('bottom')\n",
    "axe2.yaxis.set_ticks_position('left')\n",
    "# Set the x-axis ticks\n",
    "axe2.set_xticks([-np.pi,-np.pi/2,0,np.pi/2,np.pi])\n",
    "axe2.set_xticklabels([r'$-\\pi$',r'$-\\pi/2$','0',r'$\\pi/2$',r'$\\pi$'])\n",
    "# Set the y-axis ticks\n",
    "axe2.set_yticks([0,10,math.exp(np.pi)])\n",
    "axe2.set_yticklabels([r'0',r'10',r'$exp(\\pi)$'])\n",
    "# Create the functions for plot\n",
    "x2 = np.linspace(-np.pi,np.pi,100)\n",
    "y2g = np.vectorize(lambda x : math.exp(x))\n",
    "y2c = np.vectorize(lambda x : math.exp(-x))\n",
    "# Create plots and legend\n",
    "axe2.plot(x2,y2g(x2),'g',label=\"exp\")\n",
    "axe2.plot(x2,y2c(x2),'c',label=\"-exp\")\n",
    "axe2.legend(loc=3)\n",
    "# Create annotations\n",
    "axe2.plot(0,1,'bo') \n",
    "axe2.annotate(r'exp(0)=1', xy=(0,1), \n",
    "                          arrowprops=dict(arrowstyle=\"->\"),\n",
    "                          xytext=(np.pi/6, 5))"
   ]
  },
  {
   "cell_type": "markdown",
   "metadata": {},
   "source": [
    "## PS4 Ex3: (Marks 2/10)\n",
    "\n",
    "In *Problem Sheet 3* you used the matplotlib function *imshow()* to map the array of scanning tunneling data (stm.dat) onto a colour map. One disadvantage of this type of view is that without the colour bar you cannot tell which part is high or low. \n",
    "\n",
    "* Using the same data (stm.dat) plot a 3D surface plot like that show in figure 2.\n",
    "\n",
    "<left> <img src=\"PS4-inferno.png\" style=\"max-width:100%\">\n",
    "    **Figure 2:** PS3’s STM data plotted using in 3D using matplotlib *plot_surface()*"
   ]
  },
  {
   "cell_type": "code",
   "execution_count": 51,
   "metadata": {},
   "outputs": [
    {
     "name": "stderr",
     "output_type": "stream",
     "text": [
      "/home/ash/environments/env/lib/python3.6/site-packages/ipykernel_launcher.py:4: RuntimeWarning: More than 20 figures have been opened. Figures created through the pyplot interface (`matplotlib.pyplot.figure`) are retained until explicitly closed and may consume too much memory. (To control this warning, see the rcParam `figure.max_open_warning`).\n",
      "  after removing the cwd from sys.path.\n"
     ]
    },
    {
     "data": {
      "application/vnd.jupyter.widget-view+json": {
       "model_id": "7abd355eb50548f8bf0b506fa487b5c9",
       "version_major": 2,
       "version_minor": 0
      },
      "text/plain": [
       "Canvas(toolbar=Toolbar(toolitems=[('Home', 'Reset original view', 'home', 'home'), ('Back', 'Back to previous …"
      ]
     },
     "metadata": {},
     "output_type": "display_data"
    },
    {
     "name": "stdout",
     "output_type": "stream",
     "text": [
      "1\n",
      "1\n",
      "1\n"
     ]
    },
    {
     "ename": "ValueError",
     "evalue": "Argument Z must be 2-dimensional.",
     "output_type": "error",
     "traceback": [
      "\u001b[0;31m---------------------------------------------------------------------------\u001b[0m",
      "\u001b[0;31mValueError\u001b[0m                                Traceback (most recent call last)",
      "\u001b[0;32m<ipython-input-51-448c8e54ba67>\u001b[0m in \u001b[0;36m<module>\u001b[0;34m\u001b[0m\n\u001b[1;32m     12\u001b[0m \u001b[0mprint\u001b[0m\u001b[0;34m(\u001b[0m\u001b[0mstm\u001b[0m\u001b[0;34m[\u001b[0m\u001b[0;36m2\u001b[0m\u001b[0;34m]\u001b[0m\u001b[0;34m.\u001b[0m\u001b[0mndim\u001b[0m\u001b[0;34m)\u001b[0m\u001b[0;34m\u001b[0m\u001b[0;34m\u001b[0m\u001b[0m\n\u001b[1;32m     13\u001b[0m \u001b[0mprint\u001b[0m\u001b[0;34m(\u001b[0m\u001b[0mstm\u001b[0m\u001b[0;34m[\u001b[0m\u001b[0;36m3\u001b[0m\u001b[0;34m]\u001b[0m\u001b[0;34m.\u001b[0m\u001b[0mndim\u001b[0m\u001b[0;34m)\u001b[0m\u001b[0;34m\u001b[0m\u001b[0;34m\u001b[0m\u001b[0m\n\u001b[0;32m---> 14\u001b[0;31m \u001b[0max\u001b[0m\u001b[0;34m.\u001b[0m\u001b[0mplot_surface\u001b[0m\u001b[0;34m(\u001b[0m\u001b[0mstm\u001b[0m\u001b[0;34m[\u001b[0m\u001b[0;36m1\u001b[0m\u001b[0;34m]\u001b[0m\u001b[0;34m,\u001b[0m \u001b[0mstm\u001b[0m\u001b[0;34m[\u001b[0m\u001b[0;36m2\u001b[0m\u001b[0;34m]\u001b[0m\u001b[0;34m,\u001b[0m \u001b[0mstm\u001b[0m\u001b[0;34m[\u001b[0m\u001b[0;36m3\u001b[0m\u001b[0;34m]\u001b[0m\u001b[0;34m)\u001b[0m\u001b[0;34m\u001b[0m\u001b[0;34m\u001b[0m\u001b[0m\n\u001b[0m",
      "\u001b[0;32m~/environments/env/lib/python3.6/site-packages/mpl_toolkits/mplot3d/axes3d.py\u001b[0m in \u001b[0;36mplot_surface\u001b[0;34m(self, X, Y, Z, norm, vmin, vmax, lightsource, *args, **kwargs)\u001b[0m\n\u001b[1;32m   1495\u001b[0m \u001b[0;34m\u001b[0m\u001b[0m\n\u001b[1;32m   1496\u001b[0m         \u001b[0;32mif\u001b[0m \u001b[0mZ\u001b[0m\u001b[0;34m.\u001b[0m\u001b[0mndim\u001b[0m \u001b[0;34m!=\u001b[0m \u001b[0;36m2\u001b[0m\u001b[0;34m:\u001b[0m\u001b[0;34m\u001b[0m\u001b[0;34m\u001b[0m\u001b[0m\n\u001b[0;32m-> 1497\u001b[0;31m             \u001b[0;32mraise\u001b[0m \u001b[0mValueError\u001b[0m\u001b[0;34m(\u001b[0m\u001b[0;34m\"Argument Z must be 2-dimensional.\"\u001b[0m\u001b[0;34m)\u001b[0m\u001b[0;34m\u001b[0m\u001b[0;34m\u001b[0m\u001b[0m\n\u001b[0m\u001b[1;32m   1498\u001b[0m         \u001b[0;32mif\u001b[0m \u001b[0mnp\u001b[0m\u001b[0;34m.\u001b[0m\u001b[0many\u001b[0m\u001b[0;34m(\u001b[0m\u001b[0mnp\u001b[0m\u001b[0;34m.\u001b[0m\u001b[0misnan\u001b[0m\u001b[0;34m(\u001b[0m\u001b[0mZ\u001b[0m\u001b[0;34m)\u001b[0m\u001b[0;34m)\u001b[0m\u001b[0;34m:\u001b[0m\u001b[0;34m\u001b[0m\u001b[0;34m\u001b[0m\u001b[0m\n\u001b[1;32m   1499\u001b[0m             cbook._warn_external(\n",
      "\u001b[0;31mValueError\u001b[0m: Argument Z must be 2-dimensional."
     ]
    }
   ],
   "source": [
    "#PS4 Ex3\n",
    "\n",
    "\n",
    "fig = plt.figure()\n",
    "\n",
    "ax = fig.add_subplot(111, projection='3d')\n",
    "\n",
    "\n",
    "stm = np.genfromtxt(\"stm-1.dat\")\n",
    "\n",
    "print(stm[1].ndim)\n",
    "print(stm[2].ndim)\n",
    "print(stm[3].ndim)\n",
    "ax.plot_surface(stm[1], stm[2], stm[3])"
   ]
  },
  {
   "cell_type": "markdown",
   "metadata": {},
   "source": [
    "## PS4 Ex4: (Marks 2/10)\n",
    "### Importing image data into numpy arrays: \n",
    "import matplotlib.image as mpimg Package contains mpimg.imread, this returns an array from an image. For greyscale images the array\n",
    "is MxN, for RGB images the array is MxNx3. The base package can only deal with .png files, however the Python Image Library (PIL)comes as part of the package pillow installed as part of anaconda which can deal with other image file types.\n",
    "\n",
    "In MRI the response to a contrast agent can be charaterised using NMR phantoms, arrays of liquids with different concentrations of the agent. Figure 3 shows an image of a phantom, the lower subplot shows the result of slicing the array into a single colour channel.\n",
    "* Import the image 'NMR Phantom.png' as an array\n",
    "* Convert the image to single channel and show as a luminosity image, add a colour bar with scale.\n",
    "<left> <img src=\"NMRplusbar.png\" style=\"max-width:100%\">\n",
    "    **Figure 3:** Top subplot, NMR phantom loaded from `NMR Phantom.png`, bottom subplot shows pseudo colour image obtained by slicing the RGB image to a single channel (R, G, or B)."
   ]
  },
  {
   "cell_type": "code",
   "execution_count": 5,
   "metadata": {},
   "outputs": [],
   "source": [
    "#PS4 Ex4:\n",
    "import matplotlib.image as mpimg # use this library to read in the imagwe NMR_Phantom.png as an array\n",
    "\n",
    "\n"
   ]
  },
  {
   "cell_type": "code",
   "execution_count": null,
   "metadata": {},
   "outputs": [],
   "source": []
  },
  {
   "cell_type": "code",
   "execution_count": null,
   "metadata": {},
   "outputs": [],
   "source": []
  },
  {
   "cell_type": "code",
   "execution_count": null,
   "metadata": {},
   "outputs": [],
   "source": []
  }
 ],
 "metadata": {
  "kernelspec": {
   "display_name": "Python 3",
   "language": "python",
   "name": "python3"
  },
  "language_info": {
   "codemirror_mode": {
    "name": "ipython",
    "version": 3
   },
   "file_extension": ".py",
   "mimetype": "text/x-python",
   "name": "python",
   "nbconvert_exporter": "python",
   "pygments_lexer": "ipython3",
   "version": "3.6.9"
  }
 },
 "nbformat": 4,
 "nbformat_minor": 4
}
