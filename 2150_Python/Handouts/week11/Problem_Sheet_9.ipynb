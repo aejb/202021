{
 "cells": [
  {
   "cell_type": "markdown",
   "metadata": {},
   "source": [
    "<div class=\"info\">\n",
    "<b>PROBLEM SHEET 9:</b>    Object Orientated Programming, the Class sructure."
   ]
  },
  {
   "cell_type": "markdown",
   "metadata": {},
   "source": [
    "### Standard Header\n",
    "As we will be utilizing a number of packages with reasonably long names, we will adopt the _de facto_ standard module abbreviations in the following header.  We also ensure that our [division behavior is sensible](http://www.python.org/dev/peps/pep-0238/) by importing from `__future__`:  _i.e._, promotion to `double` will occur from `int` or `long` data types involving division:  `1/2 == 0.5`.  Although this is the default in Python 3, it is a trivial way to help this notebook work in Python 2 if that's what you are using."
   ]
  },
  {
   "cell_type": "code",
   "execution_count": 2,
   "metadata": {},
   "outputs": [
    {
     "ename": "SyntaxError",
     "evalue": "from __future__ imports must occur at the beginning of the file (<ipython-input-2-0dc939fe59a1>, line 10)",
     "output_type": "error",
     "traceback": [
      "\u001b[0;36m  File \u001b[0;32m\"<ipython-input-2-0dc939fe59a1>\"\u001b[0;36m, line \u001b[0;32m10\u001b[0m\n\u001b[0;31mSyntaxError\u001b[0m\u001b[0;31m:\u001b[0m from __future__ imports must occur at the beginning of the file\n"
     ]
    }
   ],
   "source": [
    "%matplotlib widget \n",
    "#this allows interactive view but you need to be in classic rather than CoCalc Jupyter notebook for this to work\n",
    "import matplotlib\n",
    "import numpy as np\n",
    "import matplotlib.pyplot as plt\n",
    "# Let printing work the same in Python 2 and 3\n",
    "from __future__ import division,print_function\n",
    "# notice two underscores _ either side of future"
   ]
  },
  {
   "cell_type": "markdown",
   "metadata": {},
   "source": [
    "So far your programs will have been designed around *functions* or *blocks of statements* which manipulate data. This is called the procedure-oriented way of programming. There is another way of organizing your program which is to combine data and functionality and wrap it inside a *class*. This is called the **object oriented** programming paradigm. Most of the time (as in the case for all of the exercises so far) you can use procedural programming but sometimes when you want to write large programs or have a solution that is better suited to it, you can use object oriented programming techniques."
   ]
  },
  {
   "cell_type": "markdown",
   "metadata": {},
   "source": [
    "## PS9 Ex1: (Marks 3/10)\n",
    "\n",
    "A fluid that flows through a (very long) pipe has zero velocity on the pipe wall and a maximum velocity along the centerline of the pipe. The velocity $v$ varies through the pipe cross section according to the following formula:\n",
    "\n",
    "$$\\upsilon(r)=\\left(\\frac{\\beta}{2\\mu_{0}}\\right)^{1/n}\\frac{n}{n+1}\\left(R^{1+1/n}-r^{1+1/n}\\right)$$\n",
    "\n",
    "1. where $R$ is the radius of the pipe,\n",
    "2. $\\beta$ is the pressure gradient (the force that drives the flow through the pipe),\n",
    "3. $\\mu_{0}$ is a viscosity coefficient,\n",
    "4. $n$ is a real number reflecting the viscous properties of the fluid (n = 1 for water and air, n $<$ 1 for many modern plastic materials),\n",
    "5. $r$ is a radial coordinate that measures the distance from the centerline ($r$ = 0 is the centerline, $r = R$ is the pipe wall).\n",
    "\n",
    "* Define a class *VelocityProfile*\n",
    "* Within the class define a *method* (function inside a class) to plot $v$ versus $r$.\n",
    "* Within the class define a *method* to return the data (variables) of the current instance of the class.\n",
    "* Use a call to the class to plot $v$ versus $r$ (for the parameters ($R$=1, $\\beta$=0.06, $\\mu_{0}$=0.02, $n$=0.1), and again for a new *instance* with ($R$=2, $\\beta$=0.03, $\\mu_0$=0.02, $n$=0.1). Include the variables in the title of the graphs.\n"
   ]
  },
  {
   "cell_type": "code",
   "execution_count": 4,
   "metadata": {},
   "outputs": [
    {
     "data": {
      "image/png": "[encoded data removed]",
      "text/plain": [
       "<Figure size 432x288 with 1 Axes>"
      ]
     },
     "metadata": {
      "needs_background": "light"
     },
     "output_type": "display_data"
    },
    {
     "data": {
      "image/png": "[encoded data removed]",
      "text/plain": [
       "<Figure size 432x288 with 1 Axes>"
      ]
     },
     "metadata": {
      "needs_background": "light"
     },
     "output_type": "display_data"
    },
    {
     "name": "stdout",
     "output_type": "stream",
     "text": [
      "{'R': 1, 'b': 0.06, 'u': 0.02, 'n': 0.1}\n"
     ]
    }
   ],
   "source": [
    "#PS9 Ex1:\n",
    "import numpy as np\n",
    "import matplotlib.pyplot as plt\n",
    "\n",
    "class VelocityProfile:\n",
    "    \"\"\"\n",
    "    Descibes the velocity of fluid flow through a pipe\n",
    "    \n",
    "    VelocityProfile.plot(r) returns a flow plot against the given x array 'r'\n",
    "    VelocityProfile.data() will return the system attributes\n",
    "    \"\"\"\n",
    "    def __init__(self, **kwargs):\n",
    "        ## Data validation: were we passed the variables we need\n",
    "        try:\n",
    "            if 'R' and 'b' and 'u' and 'n' not in kwargs:\n",
    "                ## Raise an error\n",
    "                raise ValueError(\"Format is incorrect.\")\n",
    "        except ValueError:\n",
    "            print(\"Please provide all the required values 'R', 'b', 'u', 'n'\")\n",
    "        else:\n",
    "            ## For each of the kwargs given, assign self attributes\n",
    "            for key in kwargs:\n",
    "                setattr(self, key, kwargs[key])\n",
    "                \n",
    "    def plot(self, r):\n",
    "        ## Generate velocity lambda function\n",
    "        v = np.vectorize(lambda r : (self.b/(2*self.u))**(1/self.n)*(self.n/(1+self.n))*( self.R**(1+(1/self.n)) - r**(1+(1/self.n)) ) )\n",
    "        fig = plt.figure()\n",
    "        axe = fig.add_subplot(111)\n",
    "        ## Set plot titles\n",
    "        axe.set_title(f\"Velocity R={self.R}, b={self.b}, u={self.u}, n={self.n}\")\n",
    "        axe.plot(r, v(r))\n",
    "        axe.set_xlabel(\"r\")\n",
    "        axe.set_ylabel(\"velocity\")\n",
    "        plt.draw()\n",
    "        plt.show()\n",
    "        ## 0 exit code\n",
    "        return 0\n",
    "    \n",
    "    def data(self):\n",
    "        ## set dict\n",
    "        rtn = {}\n",
    "        for i in ['R', 'b', 'u', 'n']:\n",
    "            rtn[i] = getattr(self,i)\n",
    "        return rtn\n",
    "    \n",
    "system1 = VelocityProfile(R=1, b=0.06, u=0.02, n=0.1)\n",
    "system2 = VelocityProfile(R=2, b=0.03, u=0.02, n=0.1)\n",
    "r = np.arange(0., 20, 0.001)\n",
    "system1.plot(r)\n",
    "system2.plot(r)\n",
    "\n",
    "print(system1.data())"
   ]
  },
  {
   "cell_type": "markdown",
   "metadata": {},
   "source": [
    "## PS9 Ex2: (Marks 3/10)\n",
    "\n",
    "The following code, *class* <font color=blue>*Gravity*</font> is an example of a class that contains methods to calulate gravitational force between two objects ($m,M$) and can generate a plot to visualize the force as a function of the separation $r$.\n",
    "\n",
    "Since the electric force has a similar functional form to the gravitational force, implement the electric force as a **subclass of Gravity**. *(The implementation just needs to redefine the value of G)*\n",
    "\n",
    "* Make a *class* for the electric force between two charges $q1$ and $q2$, being a distance $r$ apart in a medium with permittivity $\\epsilon_0$.\n",
    "Where the force, $F=Gq_{1}q_{2}/r^{2}$, where $G = 1/4\\pi\\epsilon_{0}$. We use the approximate value $G = 8.99~\\rm{x}~10^{9} \\rm{Nm}^{2}/\\rm{C}^{2}$ ($C$ is the Coulomb unit used to measure electric charges such as $q1$ and $q2$). \n",
    "* Call the inherited *force(r)* method to compute the electric force and the *visualize* method to make a plot of the force. (You may need to modify the parent class Gravity to make it more generic for the plot title)."
   ]
  },
  {
   "cell_type": "code",
   "execution_count": 5,
   "metadata": {},
   "outputs": [
    {
     "name": "stdout",
     "output_type": "stream",
     "text": [
      "force: 1.9819803045897172e+20\n"
     ]
    },
    {
     "data": {
      "image/png": "[encoded data removed]",
      "text/plain": [
       "<Figure size 432x288 with 1 Axes>"
      ]
     },
     "metadata": {
      "needs_background": "light"
     },
     "output_type": "display_data"
    }
   ],
   "source": [
    "import matplotlib.pyplot as plt\n",
    "import numpy as np\n",
    "\n",
    "class Gravity:\n",
    "    \"\"\"Gravity force between two physical objects.\"\"\"\n",
    "    def __init__(self, m, M):\n",
    "        self.m = m # mass of object 1\n",
    "        self.M = M # mass of object 2\n",
    "        self.G = 6.67428E-11 # gravitational constant\n",
    "    def force(self, r):\n",
    "        G, m, M = self.G, self.m, self.M\n",
    "        return G*m*M/r**2\n",
    "    def visualize(self, r_start, r_stop, n=100):\n",
    "        r = np.linspace(r_start, r_stop, n)\n",
    "        g = self.force(r)\n",
    "        plt.figure()\n",
    "        plt.plot(r, g)\n",
    "        plt.set_title='Gravity force: m=%g, M=%g' % (self.m, self.M)\n",
    "        plt.xlabel('r')\n",
    "        plt.ylabel('force [N]')\n",
    "        plt.show()\n",
    "\n",
    "\n",
    "mass_moon = 7.35E+22\n",
    "mass_earth = 5.97E+24\n",
    "g1 = Gravity(mass_moon, mass_earth)\n",
    "r = 3.844E+8 # Earth-Moon distance in meters\n",
    "print ('force:', g1.force(r))\n",
    "z=g1.visualize(0.1,1)"
   ]
  },
  {
   "cell_type": "code",
   "execution_count": null,
   "metadata": {},
   "outputs": [],
   "source": [
    "# Creates an instance g1\n",
    "g1 = Gravity(mass_moon, mass_earth)\n",
    "print(dir(g1)) # returns list of methods that act on g1"
   ]
  },
  {
   "cell_type": "code",
   "execution_count": null,
   "metadata": {},
   "outputs": [],
   "source": [
    "g1.visualize(0.1,1) # using the method visulaize on g1\n"
   ]
  },
  {
   "cell_type": "code",
   "execution_count": 18,
   "metadata": {},
   "outputs": [
    {
     "name": "stdout",
     "output_type": "stream",
     "text": [
      "Force between two charges 1C at 2m = 2247500000.0 N\n"
     ]
    },
    {
     "data": {
      "image/png": "[encoded data removed]",
      "text/plain": [
       "<Figure size 432x288 with 1 Axes>"
      ]
     },
     "metadata": {
      "needs_background": "light"
     },
     "output_type": "display_data"
    }
   ],
   "source": [
    "#PS9 Ex2:\n",
    "\n",
    "## Inherit class Gravity\n",
    "class Electric(Gravity):\n",
    "    def __init__(self, m, M):\n",
    "        ## Initialize Gravity instance\n",
    "        Gravity.__init__(self, m, M)\n",
    "        ## Reassign E to coulomb\n",
    "        self.G = 8.99E9\n",
    "\n",
    "ele = Electric(1, 1)\n",
    "\n",
    "print(f\"Force between two charges 1C at 2m = {ele.force(2)} N\")\n",
    "\n",
    "ele.visualize(-1, 1)\n",
    "    "
   ]
  },
  {
   "cell_type": "markdown",
   "metadata": {},
   "source": [
    "## PS9 Ex3: (Marks 4/10)\n",
    "\n",
    "* The code *Exercise 3: Drumhead example* generates the vibrational modes on a circular membrane using the *Bessel* functions\n",
    "\n",
    "* Using *ipywidgets* modify the code so that the parameters n and k are radio buttons (with $n$= 0,1,2,3,4,5 and $k$=1,2,3,4) and have $t$ as a slider.\n",
    "\n",
    "* **Extra credit**, re-write as a *class*, following on from the example *class example of plotting using ipywidgets* below."
   ]
  },
  {
   "cell_type": "code",
   "execution_count": null,
   "metadata": {},
   "outputs": [],
   "source": [
    "#PS9 Ex3:"
   ]
  },
  {
   "cell_type": "code",
   "execution_count": 19,
   "metadata": {},
   "outputs": [],
   "source": [
    "from scipy.special import jn, jn_zeros\n",
    "#print(help(jn))\n",
    "#print(help(jn_zeros))"
   ]
  },
  {
   "cell_type": "code",
   "execution_count": 5,
   "metadata": {},
   "outputs": [
    {
     "data": {
      "application/vnd.jupyter.widget-view+json": {
       "model_id": "65dff5cd84444be4bdde09b9de12e1a2",
       "version_major": 2,
       "version_minor": 0
      },
      "text/plain": [
       "interactive(children=(IntSlider(value=1, description='n', max=5), IntSlider(value=1, description='k', max=4, m…"
      ]
     },
     "metadata": {},
     "output_type": "display_data"
    }
   ],
   "source": [
    "import ipywidgets as widgets\n",
    "import numpy as np\n",
    "import matplotlib.pyplot as plt\n",
    "from matplotlib import cm\n",
    "from scipy.special import jn, jn_zeros\n",
    "\n",
    "\n",
    "def drumhead_height(n, k, distance, angle, t):\n",
    "    \"\"\"\n",
    "    Function provided to generate drum height from jn_zeros\n",
    "    \"\"\"\n",
    "    nth_zero = jn_zeros(n, k)[-1]\n",
    "    AA=(jn(n, distance*nth_zero))\n",
    "    BB=np.cos(t)*np.cos(angle*n)\n",
    "    ZZ=BB*AA\n",
    "    return ZZ\n",
    "\n",
    "## Define function\n",
    "def bessel(n, k, t):\n",
    "    \"\"\"\n",
    "    Return x, y, z coordinates for a bessel function with given n, k, t\n",
    "    \"\"\"\n",
    "    ## Set up r and theta \n",
    "    radius = np.linspace(0,1,60)\n",
    "    theta = np.linspace(0,2.*np.pi,60)\n",
    "    x = np.array([r*np.cos(theta) for r in radius])\n",
    "    y = np.array([r*np.sin(theta) for r in radius])\n",
    "    ## Get z dimensions from drumhead_height\n",
    "    z = np.array([drumhead_height(n,k,r,theta,t) for r in radius])\n",
    "    return x, y, z\n",
    " \n",
    " \n",
    "@widgets.interact(n=(0, 5, 1), k=(1, 4, 1), t=(0, 10, 0.5))\n",
    "def update(n = 1.0, k=1, t=0):\n",
    "    ## set up plot\n",
    "    fig=plt.figure(figsize=(6,6))\n",
    "    ax=fig.add_subplot(111, projection='3d')\n",
    "    ## set constant limits so plot re-adjusts not axes scale\n",
    "    ax.set_xlim(-1, 1)\n",
    "    ax.set_ylim(-1, 1)\n",
    "    ax.set_zlim(-1, 1)\n",
    "    ## Remove old plot information\n",
    "    [l.remove() for l in ax.lines]\n",
    "    ## Call new plot information\n",
    "    args = bessel(n, k, t)\n",
    "    ## Plot as surface using * to expand returned tuple\n",
    "    ax.plot_surface(*args, rstride=1, cstride=1, cmap=cm.jet)"
   ]
  },
  {
   "cell_type": "code",
   "execution_count": null,
   "metadata": {
    "scrolled": true
   },
   "outputs": [],
   "source": []
  },
  {
   "cell_type": "code",
   "execution_count": null,
   "metadata": {},
   "outputs": [],
   "source": [
    "#ignore this, it's something that helps styling the notebook.\n",
    "from IPython.core.display import HTML\n",
    "def css_styling():\n",
    "    styles = open(\"custom.css\", \"r\").read()\n",
    "    return HTML(styles)\n",
    "css_styling()"
   ]
  }
 ],
 "metadata": {
  "kernelspec": {
   "display_name": "Python 3",
   "language": "python",
   "name": "python3"
  },
  "language_info": {
   "codemirror_mode": {
    "name": "ipython",
    "version": 3
   },
   "file_extension": ".py",
   "mimetype": "text/x-python",
   "name": "python",
   "nbconvert_exporter": "python",
   "pygments_lexer": "ipython3",
   "version": "3.6.9"
  }
 },
 "nbformat": 4,
 "nbformat_minor": 4
}
