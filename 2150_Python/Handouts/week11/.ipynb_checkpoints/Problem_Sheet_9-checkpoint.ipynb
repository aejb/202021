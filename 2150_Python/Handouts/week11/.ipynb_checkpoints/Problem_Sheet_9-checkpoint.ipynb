{
 "cells": [
  {
   "cell_type": "markdown",
   "metadata": {},
   "source": [
    "<div class=\"info\">\n",
    "<b>PROBLEM SHEET 9:</b>    Object Orientated Programming, the Class sructure."
   ]
  },
  {
   "cell_type": "markdown",
   "metadata": {},
   "source": [
    "### Standard Header\n",
    "As we will be utilizing a number of packages with reasonably long names, we will adopt the _de facto_ standard module abbreviations in the following header.  We also ensure that our [division behavior is sensible](http://www.python.org/dev/peps/pep-0238/) by importing from `__future__`:  _i.e._, promotion to `double` will occur from `int` or `long` data types involving division:  `1/2 == 0.5`.  Although this is the default in Python 3, it is a trivial way to help this notebook work in Python 2 if that's what you are using."
   ]
  },
  {
   "cell_type": "code",
   "execution_count": 27,
   "metadata": {},
   "outputs": [],
   "source": [
    "%matplotlib widget \n",
    "#this allows interactive view but you need to be in classic rather than CoCalc Jupyter notebook for this to work\n",
    "import matplotlib\n",
    "import numpy as np\n",
    "import matplotlib.pyplot as plt\n",
    "# Let printing work the same in Python 2 and 3\n",
    "from __future__ import division,print_function\n",
    "# notice two underscores _ either side of future"
   ]
  },
  {
   "cell_type": "markdown",
   "metadata": {},
   "source": [
    "So far your programs will have been designed around *functions* or *blocks of statements* which manipulate data. This is called the procedure-oriented way of programming. There is another way of organizing your program which is to combine data and functionality and wrap it inside a *class*. This is called the **object oriented** programming paradigm. Most of the time (as in the case for all of the exercises so far) you can use procedural programming but sometimes when you want to write large programs or have a solution that is better suited to it, you can use object oriented programming techniques."
   ]
  },
  {
   "cell_type": "markdown",
   "metadata": {},
   "source": [
    "## PS9 Ex1: (Marks 3/10)\n",
    "\n",
    "A fluid that flows through a (very long) pipe has zero velocity on the pipe wall and a maximum velocity along the centerline of the pipe. The velocity $v$ varies through the pipe cross section according to the following formula:\n",
    "\n",
    "$$\\upsilon(r)=\\left(\\frac{\\beta}{2\\mu_{0}}\\right)^{1/n}\\frac{n}{n+1}\\left(R^{1+1/n}-r^{1+1/n}\\right)$$\n",
    "\n",
    "1. where $R$ is the radius of the pipe,\n",
    "2. $\\beta$ is the pressure gradient (the force that drives the flow through the pipe),\n",
    "3. $\\mu_{0}$ is a viscosity coefficient,\n",
    "4. $n$ is a real number reflecting the viscous properties of the fluid (n = 1 for water and air, n $<$ 1 for many modern plastic materials),\n",
    "5. $r$ is a radial coordinate that measures the distance from the centerline ($r$ = 0 is the centerline, $r = R$ is the pipe wall).\n",
    "\n",
    "* Define a class *VelocityProfile*\n",
    "* Within the class define a *method* (function inside a class) to plot $v$ versus $r$.\n",
    "* Within the class define a *method* to return the data (variables) of the current instance of the class.\n",
    "* Use a call to the class to plot $v$ versus $r$ (for the parameters ($R$=1, $\\beta$=0.06, $\\mu_{0}$=0.02, $n$=0.1), and again for a new *instance* with ($R$=2, $\\beta$=0.03, $\\mu_0$=0.02, $n$=0.1). Include the variables in the title of the graphs.\n"
   ]
  },
  {
   "cell_type": "code",
   "execution_count": null,
   "metadata": {},
   "outputs": [],
   "source": [
    "#PS9 Ex1:\n",
    "\n",
    "class VelocityProfile:\n",
    "    def __init__(self, r, b, u):\n",
    "        \n",
    "    def plot():\n",
    "        return\n",
    "    \n",
    "    def data():\n",
    "        return\n",
    "    "
   ]
  },
  {
   "cell_type": "markdown",
   "metadata": {},
   "source": [
    "## PS9 Ex2: (Marks 3/10)\n",
    "\n",
    "The following code, *class* <font color=blue>*Gravity*</font> is an example of a class that contains methods to calulate gravitational force between two objects ($m,M$) and can generate a plot to visualize the force as a function of the separation $r$.\n",
    "\n",
    "Since the electric force has a similar functional form to the gravitational force, implement the electric force as a **subclass of Gravity**. *(The implementation just needs to redefine the value of G)*\n",
    "\n",
    "* Make a *class* for the electric force between two charges $q1$ and $q2$, being a distance $r$ apart in a medium with permittivity $\\epsilon_0$.\n",
    "Where the force, $F=Gq_{1}q_{2}/r^{2}$, where $G = 1/4\\pi\\epsilon_{0}$. We use the approximate value $G = 8.99~\\rm{x}~10^{9} \\rm{Nm}^{2}/\\rm{C}^{2}$ ($C$ is the Coulomb unit used to measure electric charges such as $q1$ and $q2$). \n",
    "* Call the inherited *force(r)* method to compute the electric force and the *visualize* method to make a plot of the force. (You may need to modify the parent class Gravity to make it more generic for the plot title)."
   ]
  },
  {
   "cell_type": "code",
   "execution_count": 12,
   "metadata": {},
   "outputs": [],
   "source": [
    "import matplotlib.pyplot as plt\n",
    "import numpy as np\n",
    "\n",
    "class Gravity:\n",
    "    \"\"\"Gravity force between two physical objects.\"\"\"\n",
    "    def __init__(self, m, M):\n",
    "        self.m = m # mass of object 1\n",
    "        self.M = M # mass of object 2\n",
    "        self.G = 6.67428E-11 # gravity constant, m**3/kg/s**2\n",
    "    def force(self, r):\n",
    "        G, m, M = self.G, self.m, self.M\n",
    "        return G*m*M/r**2\n",
    "    def visualize(self, r_start, r_stop, n=100):\n",
    "        r = np.linspace(r_start, r_stop, n)\n",
    "        g = self.force(r)\n",
    "        plt.figure()\n",
    "        plt.plot(r, g)\n",
    "        plt.set_title='Gravity force: m=%g, M=%g' % (self.m, self.M)\n",
    "        plt.xlabel('r')\n",
    "        plt.ylabel('force [N]')\n",
    "        plt.show()\n",
    "\n",
    "\n",
    "# Un-Comment out some example calls to the class\n",
    "mass_moon = 7.35E+22; mass_earth = 5.97E+24\n",
    "#g1 = Gravity(mass_moon, mass_earth)\n",
    "#r = 3.844E+8 # Earth-Moon distance in meters\n",
    "#Fg = g1.force(r)\n",
    "#print ('force:', Fg)\n",
    "#z=g1.visualize(0.1,1)"
   ]
  },
  {
   "cell_type": "code",
   "execution_count": 13,
   "metadata": {},
   "outputs": [
    {
     "name": "stdout",
     "output_type": "stream",
     "text": [
      "['G', 'M', '__class__', '__delattr__', '__dict__', '__dir__', '__doc__', '__eq__', '__format__', '__ge__', '__getattribute__', '__gt__', '__hash__', '__init__', '__init_subclass__', '__le__', '__lt__', '__module__', '__ne__', '__new__', '__reduce__', '__reduce_ex__', '__repr__', '__setattr__', '__sizeof__', '__str__', '__subclasshook__', '__weakref__', 'force', 'm', 'visualize']\n"
     ]
    }
   ],
   "source": [
    "# Creates an instance g1\n",
    "g1 = Gravity(mass_moon, mass_earth)\n",
    "print(dir(g1)) # returns list of methods that act on g1"
   ]
  },
  {
   "cell_type": "code",
   "execution_count": 8,
   "metadata": {},
   "outputs": [
    {
     "data": {
      "application/vnd.jupyter.widget-view+json": {
       "model_id": "7b3f3254ac4847a48ca5b1cf0552b7a3",
       "version_major": 2,
       "version_minor": 0
      },
      "text/plain": [
       "Canvas(toolbar=Toolbar(toolitems=[('Home', 'Reset original view', 'home', 'home'), ('Back', 'Back to previous …"
      ]
     },
     "metadata": {},
     "output_type": "display_data"
    }
   ],
   "source": [
    "g1.visualize(0.1,1) # using the method visulaize on g1\n"
   ]
  },
  {
   "cell_type": "code",
   "execution_count": null,
   "metadata": {},
   "outputs": [],
   "source": [
    "#PS9 Ex2:"
   ]
  },
  {
   "cell_type": "markdown",
   "metadata": {},
   "source": [
    "## PS9 Ex3: (Marks 4/10)\n",
    "\n",
    "* The code *Exercise 3: Drumhead example* generates the vibrational modes on a circular membrane using the *Bessel* functions\n",
    "\n",
    "* Using *ipywidgets* modify the code so that the parameters n and k are radio buttons (with $n$= 0,1,2,3,4,5 and $k$=1,2,3,4) and have $t$ as a slider.\n",
    "\n",
    "* **Extra credit**, re-write as a *class*, following on from the example *class example of plotting using ipywidgets* below."
   ]
  },
  {
   "cell_type": "code",
   "execution_count": null,
   "metadata": {},
   "outputs": [],
   "source": [
    "#PS9 Ex3:"
   ]
  },
  {
   "cell_type": "code",
   "execution_count": 14,
   "metadata": {},
   "outputs": [],
   "source": [
    "from scipy.special import jn, jn_zeros\n",
    "#print(help(jn))\n",
    "#print(help(jn_zeros))"
   ]
  },
  {
   "cell_type": "code",
   "execution_count": 34,
   "metadata": {},
   "outputs": [
    {
     "data": {
      "application/vnd.jupyter.widget-view+json": {
       "model_id": "cbc11b3e1e8a4bcba7bf48c28791e506",
       "version_major": 2,
       "version_minor": 0
      },
      "text/plain": [
       "Canvas(toolbar=Toolbar(toolitems=[('Home', 'Reset original view', 'home', 'home'), ('Back', 'Back to previous …"
      ]
     },
     "metadata": {},
     "output_type": "display_data"
    }
   ],
   "source": [
    "# Exercise 3: Drumhead example\n",
    "import matplotlib.pyplot as plt\n",
    "from mpl_toolkits.mplot3d import Axes3D\n",
    "from matplotlib import cm\n",
    "import numpy as np\n",
    "#I dont use these here but they for getting the user to input things/warning messages\n",
    "\n",
    "from scipy.special import jn, jn_zeros\n",
    "\n",
    "def drumhead_height(n, k, distance, angle, t):\n",
    "    nth_zero = jn_zeros(n, k)[-1]\n",
    "    AA=(jn(n, distance*nth_zero))\n",
    "    BB=np.cos(t)*np.cos(angle*n)\n",
    "    ZZ=BB*AA\n",
    "    return ZZ\n",
    "    \n",
    "def calcPattern(n,k,t):\n",
    "    radius = np.linspace(0,1,60)\n",
    "    theta = np.linspace(0,2.*np.pi,60)\n",
    "    x = np.array([r*np.cos(theta) for r in radius])\n",
    "    y = np.array([r*np.sin(theta) for r in radius])\n",
    "    z = np.array([drumhead_height(n,k, r, theta, t) for r in radius])#get the pixels we want to plot\n",
    "    fig=plt.figure(figsize=(9,9))\n",
    "    ax=fig.add_subplot(111, projection='3d')\n",
    "    ax.plot_surface(x, y, z, rstride=1, cstride=1, cmap=cm.jet)#in this example we are plotting a surface plot,\n",
    "    #ax.title(\"Vibrational modes on a circular drum\")\n",
    "    ax.set_xlabel(\"X\")\n",
    "    ax.set_ylabel(\"Y\")\n",
    "    ax.set_zlabel(\"Z\")\n",
    "    ax.set_title('Vibrational Modes on a circular drum')\n",
    "    plt.show()\n",
    "    \n",
    "   \n",
    "\n",
    "calcPattern(1,1,0)\n",
    "\n",
    "\n"
   ]
  },
  {
   "cell_type": "code",
   "execution_count": 35,
   "metadata": {},
   "outputs": [
    {
     "data": {
      "application/vnd.jupyter.widget-view+json": {
       "model_id": "94d6edb495414570877ab63eca3f4c2a",
       "version_major": 2,
       "version_minor": 0
      },
      "text/plain": [
       "Sines(children=(VBox(children=(IntSlider(value=1, description='freq', max=10), ColorPicker(value='#FF00DD', de…"
      ]
     },
     "metadata": {},
     "output_type": "display_data"
    }
   ],
   "source": [
    "# Class example of plotting using ipywidgets\n",
    "import ipywidgets as widgets\n",
    "def make_box_layout():\n",
    "     return widgets.Layout(\n",
    "        border='solid 1px black',\n",
    "        margin='0px 10px 10px 0px',\n",
    "        padding='5px 5px 5px 5px'\n",
    "     )\n",
    " \n",
    "class Sines(widgets.HBox):\n",
    "     \n",
    "    def __init__(self):\n",
    "        super().__init__()\n",
    "        output = widgets.Output()\n",
    " \n",
    "        self.x = np.linspace(0, 2 * np.pi, 100)\n",
    "        initial_color = '#FF00DD'\n",
    " \n",
    "        with output:\n",
    "            self.fig, self.ax = plt.subplots(constrained_layout=True, figsize=(5, 3.5))\n",
    "        self.line, = self.ax.plot(self.x, np.sin(self.x), initial_color)\n",
    "         \n",
    "        self.fig.canvas.toolbar_position = 'bottom'\n",
    "        self.ax.grid(True)\n",
    " \n",
    "        # define widgets\n",
    "        int_slider = widgets.IntSlider(\n",
    "            value=1, \n",
    "            min=0, \n",
    "            max=10, \n",
    "            step=1, \n",
    "            description='freq'\n",
    "        )\n",
    "        color_picker = widgets.ColorPicker(\n",
    "            value=initial_color, \n",
    "            description='pick a color'\n",
    "        )\n",
    "        text_xlabel = widgets.Text(\n",
    "            value='', \n",
    "            description='xlabel', \n",
    "            continuous_update=False\n",
    "        )\n",
    "        text_ylabel = widgets.Text(\n",
    "            value='', \n",
    "            description='ylabel', \n",
    "            continuous_update=False\n",
    "        )\n",
    " \n",
    "        controls = widgets.VBox([\n",
    "            int_slider, \n",
    "            color_picker, \n",
    "            text_xlabel, \n",
    "            text_ylabel\n",
    "        ])\n",
    "        controls.layout = make_box_layout()\n",
    "         \n",
    "        out_box = widgets.Box([output])\n",
    "        output.layout = make_box_layout()\n",
    " \n",
    "        # observe stuff\n",
    "        int_slider.observe(self.update, 'value')\n",
    "        color_picker.observe(self.line_color, 'value')\n",
    "        text_xlabel.observe(self.update_xlabel, 'value')\n",
    "        text_ylabel.observe(self.update_ylabel, 'value')\n",
    "         \n",
    "        text_xlabel.value = 'x'\n",
    "        text_ylabel.value = 'y'\n",
    "         \n",
    " \n",
    "        # add to children\n",
    "        self.children = [controls, output]\n",
    "     \n",
    "    def update(self, change):\n",
    "        \"\"\"Draw line in plot\"\"\"\n",
    "        self.line.set_ydata(np.sin(change.new * self.x))\n",
    "        self.fig.canvas.draw()\n",
    " \n",
    "    def line_color(self, change):\n",
    "        self.line.set_color(change.new)\n",
    " \n",
    "    def update_xlabel(self, change):\n",
    "        self.ax.set_xlabel(change.new)\n",
    " \n",
    "    def update_ylabel(self, change):\n",
    "        self.ax.set_ylabel(change.new)\n",
    "         \n",
    "         \n",
    "Sines()"
   ]
  },
  {
   "cell_type": "code",
   "execution_count": null,
   "metadata": {},
   "outputs": [],
   "source": [
    "#ignore this, it's something that helps styling the notebook.\n",
    "from IPython.core.display import HTML\n",
    "def css_styling():\n",
    "    styles = open(\"custom.css\", \"r\").read()\n",
    "    return HTML(styles)\n",
    "css_styling()"
   ]
  }
 ],
 "metadata": {
  "kernelspec": {
   "display_name": "Python 3",
   "language": "python",
   "name": "python3"
  },
  "language_info": {
   "codemirror_mode": {
    "name": "ipython",
    "version": 3
   },
   "file_extension": ".py",
   "mimetype": "text/x-python",
   "name": "python",
   "nbconvert_exporter": "python",
   "pygments_lexer": "ipython3",
   "version": "3.6.9"
  }
 },
 "nbformat": 4,
 "nbformat_minor": 4
}
