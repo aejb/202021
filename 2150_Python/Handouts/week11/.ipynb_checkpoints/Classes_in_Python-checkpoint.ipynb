{
 "cells": [
  {
   "cell_type": "markdown",
   "metadata": {},
   "source": [
    "## Object Oriented Programming Week11: Classes\n",
    "\n",
    "So far your programs will have been designed around functions or blocks of statements which manipulate data. This is called the procedure-oriented style of programming. There is another way of organizing your program which is to combine data and functionality and wrap it inside a *class*. This is called the **object oriented programming** OOP paradigm. Most of the time (as in the case for all of the exercises so far) you can use procedural programming but sometimes when you want to write large programs or have a solution that is better suited to it, you can use object oriented programming techniques.\n",
    "\n",
    "One of the **main** problems with the procedural programming paradigm that you will have all encountered so far comes when you want to perform operations using functions with additional parameters, so far I have seen lots of code with a number of functions defined *f1,f2,f3..* where the only difference between each function is that it contains a different set of parameters. This is okay when you have only a few instances but would become unmanageable if you needed 100. Before I discuss the OOP solution I will demonstrate the problem with an example.\n",
    "\n",
    "Consider the vertical motion of a ball thrown in the air, from Newton's second law of motion you can set up a mathematical model for the motion of the ball and find that the vertical position of the ball, $y$, varies with time $t$ according to the following formula:\n",
    "$$y(t)=\\upsilon_{0}t-\\frac{1}{2}gt^{2}$$\n",
    "Here, $\\upsilon_{0}$ is the initial velocity of the ball, $g$ is the acceleration of gravity. Observe that the $y$ axis is chosen such that the ball starts at $y = 0$ when $t = 0$. \n",
    "* Conceptually, in physics, $y$ is a function of $t$, but $y$ also depends on two other parameters, $\\upsilon_{0}$ and $g$, although it is not natural to view $y$ as a function of these parameters.\n",
    "* We could write $y(t; \\upsilon_{0}, g)$ to indicate that $t$ is the independent variable, while $\\upsilon_{0}$ and $g$ are parameters. \n",
    "* Strictly speaking, $g$ is a fixed parameter (if we are the surface of the Earth), so only $\\upsilon_{0}$ and $t$ can be arbitrarily chosen in the formula.\n",
    "* It would then be better to write $y(t; \\upsilon_{0})$.\n",
    "* In the general case, we may have a function of $x$ that has $n$ parameters $p_{1}, . . . , p_{n}: f(x; p_{1}, . . . , p_{n})$. \n",
    "* Such as:\n",
    "$$g(x;a,A)=Ae^{-ax} $$\n",
    "\n",
    "**What is the best way to implement such functions?** The way that we have all been using so far is to have the independent variable and the parameters as arguments:"
   ]
  },
  {
   "cell_type": "code",
   "execution_count": null,
   "metadata": {},
   "outputs": [],
   "source": [
    "from math import exp\n",
    "\n",
    "def y_vertical(t, v0):\n",
    "    g = 9.81\n",
    "    return v0*t - 0.5*g*t**2\n",
    "    \n",
    "    \n",
    "def g(x, a, A):\n",
    "    return A*exp(-a*x)"
   ]
  },
  {
   "cell_type": "markdown",
   "metadata": {},
   "source": [
    "Here however we can encounter a problem that many software tools we can use for mathematical operations on functions assume that a function of one variable has only one argument in the computer representation of the function. For example, we may have a tool for differentiating a function $f(x)$ at a point $x$, using the approximation:\n",
    "\n",
    "$$\\dot{f}(x)\\approx \\frac{f(x+h)-f(x)}{h}$$\n",
    "coded as:"
   ]
  },
  {
   "cell_type": "code",
   "execution_count": null,
   "metadata": {},
   "outputs": [],
   "source": [
    "def diff(f, x, h=1E-5):\n",
    "    return (f(x+h) - f(x))/h"
   ]
  },
  {
   "cell_type": "markdown",
   "metadata": {},
   "source": [
    "Unfortunately, *diff* will not work with our $y\\_vertical(t; \\upsilon_{0})$ function. Calling *diff* $(y, t)$ leads to an error inside the *diff* function, because it tries to call our $y\\_vertical$ function with only one argument while the $y\\_vertical$ function requires two.\n",
    "Writing an alternative *diff* function for $f$ functions having two arguments is a bad remedy as it restricts the set of admissible $f$ functions to the very special case of a function with one independent variable and one parameter. A fundamental principle in computer programming is to strive for software that is as general and widely applicable as possible.\n",
    "In the present case, it means that the *diff* function should be applicable to all functions $f$ of one variable, and letting $f$ take only one argument is then the natural decision to make.\n",
    "\n",
    "The aim is then to define our functions with only one argument, the independent variable $(t)$ or $(x)$, this would look like:"
   ]
  },
  {
   "cell_type": "code",
   "execution_count": null,
   "metadata": {},
   "outputs": [],
   "source": [
    "def y_vertical(t):\n",
    "    g = 9.81\n",
    "    return v0*t - 0.5*g*t**2\n",
    "def g(x):\n",
    "    return A*exp(-a*x)"
   ]
  },
  {
   "cell_type": "markdown",
   "metadata": {},
   "source": [
    "These functions work only if  $\\upsilon_{0}$, $A$, and $a$ are global variables, initialized before one attempts to call the functions.\n",
    "The use of global variables is in general considered bad programming. Why global variables are problematic in the present case can be illustrated when there is need to work with several versions of a function. Suppose we want to work with two versions of  $y\\_vertical(t; \\upsilon_{0})$, one with $\\upsilon_{0}=1$ and one with $\\upsilon_{0}=5$. Every time we call $y\\_vertical$ we must remember which version of the function we work with, and set $\\upsilon_{0}$ accordingly prior to the call.\n",
    "Another problem is that variables with simple names like $\\upsilon_{0}$, $a$, and $A$ may easily be used as global variables in other parts of the program. These parts may change our $\\upsilon_{0}$ in a context different from the $y$ function, but the change affects the correctness of the $y$ function. In such a case, we say that changing $\\upsilon_{0}$ has side effects, i.e., the change affects other parts of the program in an unintentional way. This is one reason why a golden rule of programming tells us to limit the use of global variables as much as possible.\n",
    "Another solution to the problem of needing two $\\upsilon_{0}$ parameters could be to introduce two $y$ functions, each with a distinct $\\upsilon_{0}$ parameter:\n"
   ]
  },
  {
   "cell_type": "code",
   "execution_count": null,
   "metadata": {},
   "outputs": [],
   "source": [
    "def y1(t):\n",
    "    g = 9.81\n",
    "    return v0_1*t - 0.5*g*t**2\n",
    "def y2(t):\n",
    "    g = 9.81\n",
    "    return v0_2*t - 0.5*g*t**2"
   ]
  },
  {
   "cell_type": "markdown",
   "metadata": {},
   "source": [
    "But as we said earlier this becomes impractical and tedious for large numbers of functions. As we will see later the introduction of the class concept solves all of these problems."
   ]
  },
  {
   "cell_type": "markdown",
   "metadata": {},
   "source": [
    "## The Class Structure in Python\n",
    "\n",
    "*Classes* and *objects* are the two main aspects of object oriented programming. A *class* creates a new type where objects are *instances* of the class.\n",
    "This week we are going to look in more detail at one aspect of object orientated programming, namely the *class* definition. \n",
    "\n",
    "### What is a class\n",
    "A class contains a set of variables (data) and a set of functions (called methods), held together as one unit.\n",
    "**The variables are visible in all the functions in the class.** \n",
    "That is, we can view the variables as global in these functions.\n",
    "\n",
    "The most basic class definition looks like this:"
   ]
  },
  {
   "cell_type": "code",
   "execution_count": null,
   "metadata": {},
   "outputs": [],
   "source": [
    "class ClassName:\n",
    "    \"\"\"Docstring\"\"\"\n",
    "    Block of statements"
   ]
  },
  {
   "cell_type": "markdown",
   "metadata": {},
   "source": [
    "Class definitions, like function definitions *def* statements must be executed before they have any effect.\n",
    "\n",
    "* We will again consider the function $y(t)=\\upsilon_{0}t-\\frac{1}{2}gt^{2}$. \n",
    "We may say that $\\upsilon_{0}$ and $g$, represented by the variables $\\upsilon_{0}$ and $g$, constitute the data. \n",
    "A Python function, e.g. $value(t)$, is needed to compute the value of $y(t; \\upsilon_{0})$ and this function must have access to the data $\\upsilon_{0}$ and $g$, while $t$ is an argument.\n",
    "\n",
    "* Now we can collect the data $\\upsilon_{0}$ and $g$, and the function $value(t)$, together as a *class*. \n",
    "* In addition, a class usually has another function, called the *constructor* for initializing the data. The constructor is always named \\_\\_init\\_\\_, notice the double underscore both in the beginning and at the end in the name.\n",
    "* Every class must have a name, often starting with a capital, so we choose $Yvertical$ as the name since the class represents a mathematical function with name $y$.\n",
    "* The \\_\\_init\\_\\_ method is run as soon as an object of a class is *instantiated* and is useful to do any initialization you want to do with your object.\n",
    "\n",
    "\n"
   ]
  },
  {
   "cell_type": "code",
   "execution_count": null,
   "metadata": {},
   "outputs": [],
   "source": [
    "class Yvertical:\n",
    "    def __init__(self, v0):\n",
    "        self.v0 = v0 # note the self parameter\n",
    "        self.g = 9.81\n",
    "    def value(self, t):\n",
    "        return self.v0*t - 0.5*self.g*t**2"
   ]
  },
  {
   "cell_type": "markdown",
   "metadata": {},
   "source": [
    "Note the *self* parameter, which we will explain shortly.\n",
    "A class creates a new data type, here of name $Yvertical$, so when we use the class to make objects, those objects are of type $Yvertical$, (We have already encountered this when we created arrays, these were created by a array class that produced array objects). An object of a user-defined class (like $Yvertical$) is usually called an instance. We need such an instance in order to use the data in the class and call the value function. The following statement constructs an instance bound to the variable name y:\n",
    "$$y=Yvertical(3)$$\n",
    "We call the class $Yvertical$ in the same way that we would call a function. Actually, $Yvertical(3)$ is automatically translated by Python to a call to the constructor \\_\\_init\\_\\_ in class $Yvertical$. The arguments in the call, here only the number 3, are always passed on as arguments to \\_\\_init\\_\\_ after the self argument. That is, $\\upsilon_{0}$ gets the value 3 and *self* is just dropped in the call. This may be confusing, but it is a rule that the *self* argument is never used in calls to functions in classes.\n",
    "\n",
    "With the instance $y$, we can compute the value $y(t = 0.1; \\upsilon_{0} = 3)$ by the statement:\n",
    "\n",
    "$$v = y.value(0.1)$$\n",
    "\n",
    "Here also, the self argument is dropped in the call to value. To access functions and variables in a class, we must prefix the function and variable names by the name of the instance and a dot: the value function is reached as $y.value$, and the variables are reached as $y.\\upsilon0$ and $y.g$.\n",
    "We can, for example, print the value of v0 in the instance y by writing:\n",
    "$$print~~y.v0$$\n",
    "Which will return the value 3.\n",
    "\n",
    "We have already introduced the term *instance* for the object of a class. Functions in classes are commonly called *methods*, and variables (data) in classes are called *attributes*. From now on we will use this terminology. In our sample class *Yvertical* we have two methods,\\_\\_init\\_\\_ and *value*, and two attributes, $v0$ and $g$. The names of methods and attributes can be chosen freely, just as names of ordinary Python functions and variables. However, the constructor must have the name \\_\\_init\\_\\_, otherwise it is not automatically called when we create new instances.\n",
    "\n",
    "You can do whatever you want in whatever method, but it is a convention to use the *constructor* for initializing the variables in the class such that the class is ready for use.\n",
    "\n",
    "The rules regarding *self* are listed below:\n",
    "\n",
    "* Any class method must have \\emph{self} as first argument\n",
    "* *self* represents an (arbitrary) instance of the class\n",
    "* To access another class method or a class attribute, inside class methods, we must prefix with *self*, as in *self.name*, where *name* is the *name* of the attribute or the other method.\n",
    "* *self* is dropped as argument in calls to class methods\n",
    "* the usage of *self* is confusing at first but should become clearer after working through example code.\n",
    "\n",
    "We can have as many attributes and methods as we like in a class, so let us add a new method to class *Yvertical*. This method is called *formula* and prints a string containing the formula of the mathematical function $y$. After this formula, we provide the value of $v0$. A class can also have a doc string, it is just the first string that appears right after the class headline. The convention is to enclose the doc string in triple double quotes \"\"\":"
   ]
  },
  {
   "cell_type": "code",
   "execution_count": null,
   "metadata": {},
   "outputs": [],
   "source": [
    "class Yvertical:\n",
    "    \"\"\"\n",
    "    Mathematical function for the vertical motion of a ball.\n",
    "    Methods:\n",
    "    constructor(v0): set initial velocity v0.\n",
    "    value(t): compute the height as function of t.\n",
    "    formula(): print out the formula for the height.\n",
    "    Attributes:\n",
    "    v0: the initial velocity of the ball (time 0).\n",
    "    g: acceleration of gravity (fixed).\n",
    "    Usage:\n",
    "    >>> y = Y(3)\n",
    "    >>> position1 = y.value(0.1)\n",
    "    >>> position2 = y.value(0.3)\n",
    "    >>> print y.formula()\n",
    "    v0*t - 0.5*g*t**2; v0=3\n",
    "    \"\"\"\n",
    "    def __init__(self, v0):\n",
    "        self.v0 = v0\n",
    "        self.g = 9.81\n",
    "    def value(self, t):\n",
    "        return self.v0*t - 0.5*self.g*t**2\n",
    "    def formula(self):\n",
    "        return 'v0*t - 0.5*g*t**2; v0=%g' % self.v0\n",
    "\n",
    "y = Yvertical(3) # Creating an instance of class Yvertical with v0=3\n",
    "position1 = y.value(0.1)\n",
    "position2 = y.value(0.3)\n",
    "print (y.formula())\n",
    "print ('position1={}, position2={}'.format(position1,position2))\n"
   ]
  },
  {
   "cell_type": "markdown",
   "metadata": {},
   "source": [
    "## Class Inheritance\n",
    "\n",
    "As you have been discovering programmers like to do the minimum possible work in order to write a program, after witting a class rather than write it all out again for a similar case it is possible to inherit all of the properties of a class in a new subclass.\n",
    "A family of classes is known as a class hierarchy. As in a biological family, there are parent classes and child classes. Child classes can inherit data and methods from parent classes, they can modify these data and methods, and they can add their own data and methods. This means that if we have a class with some functionality, we can extend this class by creating a child class and simply add the functionality we need. The original class is still available and the separate child class is small, since it does not need to repeat the code in the parent class.\n",
    "\n",
    "The magic of object-oriented programming is that other parts of the code do not need to distinguish whether an object is the parent or the child, all generations in a family tree can be treated as a unified object.\n",
    "In other words, one piece of code can work with all members in a class family or hierarchy. This principle has revolutionized the development of large computer systems. A parent class is usually called base class or superclass, while the child class is known as a subclass or derived class. We shall use the terms superclass and subclass from now on.\n",
    "\n",
    "The following code gives a generic example of implementing inheritance:\n"
   ]
  },
  {
   "cell_type": "code",
   "execution_count": null,
   "metadata": {},
   "outputs": [],
   "source": [
    "class SuperClass:\n",
    "    def __init__(self, p, q):\n",
    "        self.p, self.q = p, q\n",
    "    def where(self):\n",
    "        print('In Superclass', self.__class__.__name__)\n",
    "    def compute(self, x):\n",
    "        self.where()\n",
    "        return self.p*x + self.q\n",
    "\n",
    "class SubClass(SuperClass):\n",
    "    def __init__(self, p, q, a):\n",
    "        SuperClass.__init__(self, p, q)\n",
    "        self.a = a\n",
    "    def where(self):\n",
    "        print('In SubClass', self.__class__.__name__)\n",
    "    def compute(self,x):\n",
    "        self.where()\n",
    "        return SuperClass.compute(self, x) + self.a*x**2\n"
   ]
  },
  {
   "cell_type": "markdown",
   "metadata": {},
   "source": [
    "This example shows how a subclass extends a superclass with one attribute (a), the subclass\n",
    "inherits the properties of the superclass through the line:"
   ]
  },
  {
   "cell_type": "code",
   "execution_count": null,
   "metadata": {},
   "outputs": [],
   "source": [
    "zz=SuperClass(2,4)\n",
    "z=SubClass(3,1,4)\n",
    "print('The value of the instance z of subclass, when x=2 is',z.compute(2))\n",
    "# note that this calls the method where() twice and so returns two print statements 'Subclass'\n",
    "print('The value of the instance zz of superclass, when x=2 is',zz.compute(2))"
   ]
  },
  {
   "cell_type": "markdown",
   "metadata": {},
   "source": [
    "## Defining a Class\n",
    "\n",
    "We want to define a class called *Client* in which a new instance stores a client's name, balance, and account level.\n",
    "It will take the format of:\n",
    "    \n",
    "    class Client(object):\n",
    "        def __init__(self, args[, ...])\n",
    "            #more code\n",
    "            \n",
    "\"def `__init__`\" is what we use when creating classes to define how we can create a new instance of this class. \n",
    "\n",
    "The arguments of `__init__` are required input when creating a new instance of this class, except for 'self'. "
   ]
  },
  {
   "cell_type": "code",
   "execution_count": 1,
   "metadata": {},
   "outputs": [],
   "source": [
    "# create the Client class below\n",
    "class Client(object):\n",
    "    def __init__(self, name, balance):\n",
    "        self.name = name\n",
    "        self.balance = balance + 100\n",
    "        \n",
    "        #define account level\n",
    "        if self.balance < 5000:\n",
    "            self.level = \"Basic\"\n",
    "        elif self.balance < 15000:\n",
    "            self.level = \"Intermediate\"\n",
    "        else:\n",
    "            self.level = \"Advanced\"\n",
    "            \n",
    "            "
   ]
  },
  {
   "cell_type": "markdown",
   "metadata": {},
   "source": [
    "The **attributes** in *Client* are *name, balance* and *level*. \n",
    "\n",
    "**Note**: \"self.name\" and \"name\" are different variables. Here they represent the same values, but in other cases, this may lead to problems. For example, here the bank has decided to update \"self.balance\" by giving all new members a bonus £100 on top of what they're putting in the bank. Calling \"balance\" for other calculations will not have the correct value."
   ]
  },
  {
   "cell_type": "markdown",
   "metadata": {},
   "source": [
    "### Creating an Instance of a Class\n",
    "\n",
    "Now, lets try creating some new clients named John_Doe, and Jane_Defoe:"
   ]
  },
  {
   "cell_type": "code",
   "execution_count": 2,
   "metadata": {},
   "outputs": [],
   "source": [
    "John_Doe = Client(\"John Doe\", 500)\n",
    "Jane_Defoe = Client(\"Jane Defoe\", 150000)"
   ]
  },
  {
   "cell_type": "markdown",
   "metadata": {},
   "source": [
    "We can see the attributes of John_Doe, or Jane_Defoe by calling them:"
   ]
  },
  {
   "cell_type": "code",
   "execution_count": 3,
   "metadata": {},
   "outputs": [
    {
     "name": "stdout",
     "output_type": "stream",
     "text": [
      "John Doe\n",
      "Advanced\n",
      "150100\n"
     ]
    }
   ],
   "source": [
    "print(John_Doe.name)\n",
    "print(Jane_Defoe.level)\n",
    "print(Jane_Defoe.balance)"
   ]
  },
  {
   "cell_type": "markdown",
   "metadata": {},
   "source": [
    "We can also add, remove or modify attributes as we like:"
   ]
  },
  {
   "cell_type": "code",
   "execution_count": 4,
   "metadata": {},
   "outputs": [],
   "source": [
    "John_Doe.email = \"jdoe23@gmail.com\"\n",
    "John_Doe.email = \"johndoe23@gmail.com\"\n",
    "del John_Doe.email"
   ]
  },
  {
   "cell_type": "code",
   "execution_count": 5,
   "metadata": {},
   "outputs": [
    {
     "data": {
      "text/plain": [
       "'jdoe23@gmail.com'"
      ]
     },
     "execution_count": 5,
     "metadata": {},
     "output_type": "execute_result"
    }
   ],
   "source": [
    "getattr(John_Doe, 'name')\n",
    "setattr(John_Doe, 'email', 'jdoe23@gmail.com')\n",
    "John_Doe.email"
   ]
  },
  {
   "cell_type": "markdown",
   "metadata": {},
   "source": [
    "You can also use the following instead instead of the normal statements:\n",
    "\n",
    "- The `getattr(obj, name[, default])` : to access the attribute of object.\n",
    "\n",
    "- The `hasattr(obj,name)` : to check if an attribute exists or not.\n",
    "\n",
    "- The `setattr(obj,name,value)` : to set an attribute. If attribute does not exist, then it would be created.\n",
    "\n",
    "- The `delattr(obj, name)` : to delete an attribute."
   ]
  },
  {
   "cell_type": "markdown",
   "metadata": {},
   "source": [
    "### Class Attributes vs. Normal Attributes\n",
    "\n",
    "A class attribute is an attribute set at the class-level rather than the instance-level, such that the value of this attribute will be the same across all instances.\n",
    "\n",
    "For our *Client* class, we might want to set the name of the bank, and the location, which would not change from instance to instance."
   ]
  },
  {
   "cell_type": "code",
   "execution_count": 6,
   "metadata": {},
   "outputs": [],
   "source": [
    "Client.bank = \"TD\"\n",
    "Client.location = \"Toronto, ON\""
   ]
  },
  {
   "cell_type": "code",
   "execution_count": 7,
   "metadata": {},
   "outputs": [
    {
     "data": {
      "text/plain": [
       "'TD'"
      ]
     },
     "execution_count": 7,
     "metadata": {},
     "output_type": "execute_result"
    }
   ],
   "source": [
    "# try calling these attributes at the class and instance level\n",
    "Client.bank\n",
    "Jane_Defoe.bank\n"
   ]
  },
  {
   "cell_type": "markdown",
   "metadata": {},
   "source": [
    "### Methods\n",
    "\n",
    "*Methods* are functions that can be applied (only) to instances of your class. \n",
    "\n",
    "For example, in the case of our 'Client' class, we may want to update a person's bank account once they withdraw or deposit money. Let's create these methods below. \n",
    "\n",
    "Note that each method takes 'self' as an argument along with the arguments required when calling this method."
   ]
  },
  {
   "cell_type": "code",
   "execution_count": 8,
   "metadata": {},
   "outputs": [],
   "source": [
    "# Use the Client class code above to now add methods for withdrawal and depositing of money\n",
    "\n",
    "# create the Client class below\n",
    "class Client(object):\n",
    "    def __init__(self, name, balance):\n",
    "        self.name = name\n",
    "        self.balance = balance + 100\n",
    "        \n",
    "        #define account level\n",
    "        if self.balance < 5000:\n",
    "            self.level = \"Basic\"\n",
    "        elif self.balance < 15000:\n",
    "            self.level = \"Intermediate\"\n",
    "        else:\n",
    "            self.level = \"Advanced\"\n",
    "            \n",
    "    def deposit(self, amount):\n",
    "        self.balance += amount\n",
    "        return self.balance\n",
    "    \n",
    "    def withdraw(self, amount):\n",
    "        if amount > self.balance:\n",
    "            raise RuntimeError(\"Insufficient for withdrawal\")\n",
    "        else:\n",
    "            self.balance -= amount\n",
    "        return self.balance\n",
    "    \n",
    "    \n",
    "\n",
    "\n",
    "\n",
    "\n",
    "\n",
    "\n",
    "\n",
    "\n",
    "\n"
   ]
  },
  {
   "cell_type": "code",
   "execution_count": 9,
   "metadata": {},
   "outputs": [
    {
     "data": {
      "text/plain": [
       "300100"
      ]
     },
     "execution_count": 9,
     "metadata": {},
     "output_type": "execute_result"
    }
   ],
   "source": [
    "John_Doe = Client(\"John Doe\", 500)\n",
    "Jane_Defoe = Client(\"Jane Defoe\", 150000)\n",
    "Jane_Defoe.deposit(150000)"
   ]
  },
  {
   "cell_type": "markdown",
   "metadata": {},
   "source": [
    "#### What is \"self\"? \n",
    "`*`*not in the philosophical sense*`*`\n",
    "\n",
    "In the method, withdraw(self, amount), the self refers to the *instance* upon which we are applying the instructions of the method. \n",
    "\n",
    "When we call a method, `f(self, arg)`, on the object `x`, we use `x.f(arg)`.\n",
    "- `x` is passed as the first argument, *self*, by default and all that is required are the other arguments that comprise the function. \n",
    "\n",
    "It is equivalent to calling `MyClass.f(x, arg)`.\n",
    "Try it yourself with the Client class and one of the methods we've written."
   ]
  },
  {
   "cell_type": "code",
   "execution_count": 10,
   "metadata": {},
   "outputs": [
    {
     "name": "stdout",
     "output_type": "stream",
     "text": [
      "1100\n",
      "250100\n"
     ]
    }
   ],
   "source": [
    "# Try calling a method two different ways\n",
    "print(John_Doe.deposit(500))\n",
    "print(Client.withdraw(Jane_Defoe, 50000))"
   ]
  },
  {
   "cell_type": "markdown",
   "metadata": {},
   "source": [
    "### Static Methods \n",
    "\n",
    "Static methods are methods that belong to a class but do not have access to *self* and hence don't require an instance to function (i.e. it will work on the class level as well as the instance level). \n",
    "\n",
    "We denote these with the line `@staticmethod` before we define our static method.\n",
    "\n",
    "Let's create a static method called make_money_sound() that will simply print \"Cha-ching!\" when called."
   ]
  },
  {
   "cell_type": "code",
   "execution_count": 11,
   "metadata": {},
   "outputs": [],
   "source": [
    "# Add a static method called make_money_sound()\n",
    "# create the Client class below\n",
    "class Client(object):\n",
    "    def __init__(self, name, balance):\n",
    "        self.name = name\n",
    "        self.balance = balance + 100\n",
    "        \n",
    "        #define account level\n",
    "        if self.balance < 5000:\n",
    "            self.level = \"Basic\"\n",
    "        elif self.balance < 15000:\n",
    "            self.level = \"Intermediate\"\n",
    "        else:\n",
    "            self.level = \"Advanced\"\n",
    "            \n",
    "    @staticmethod\n",
    "    def make_money_sound():\n",
    "        print \"Cha-ching!\"\n",
    "        \n",
    "    \n"
   ]
  },
  {
   "cell_type": "code",
   "execution_count": 12,
   "metadata": {},
   "outputs": [
    {
     "name": "stdout",
     "output_type": "stream",
     "text": [
      "Cha-ching!\n"
     ]
    }
   ],
   "source": [
    "Client.make_money_sound()\n"
   ]
  },
  {
   "cell_type": "markdown",
   "metadata": {},
   "source": [
    "### Class Methods\n",
    "\n",
    "A class method is a type of method that will receive the class rather than the instance as the first parameter. It is also identified similarly to a static method, with `@classmethod`.\n",
    "\n",
    "Create a class method called bank_location() that will print both the bank name and location when called upon the class."
   ]
  },
  {
   "cell_type": "code",
   "execution_count": 13,
   "metadata": {},
   "outputs": [],
   "source": [
    "# Add a class method called bank_location()\n",
    "# create the Client class below\n",
    "class Client(object):\n",
    "    bank = \"TD\"\n",
    "    location = \"Toronto, ON\"\n",
    "    \n",
    "    def __init__(self, name, balance):\n",
    "        self.name = name\n",
    "        self.balance = balance + 100\n",
    "        \n",
    "        #define account level\n",
    "        if self.balance < 5000:\n",
    "            self.level = \"Basic\"\n",
    "        elif self.balance < 15000:\n",
    "            self.level = \"Intermediate\"\n",
    "        else:\n",
    "            self.level = \"Advanced\"\n",
    "            \n",
    "    @classmethod\n",
    "    def bank_location(cls):\n",
    "        return str(cls.bank + \" \" + cls.location)\n",
    "\n"
   ]
  },
  {
   "cell_type": "code",
   "execution_count": 14,
   "metadata": {},
   "outputs": [
    {
     "data": {
      "text/plain": [
       "'TD Toronto, ON'"
      ]
     },
     "execution_count": 14,
     "metadata": {},
     "output_type": "execute_result"
    }
   ],
   "source": [
    "Client.bank_location()"
   ]
  },
  {
   "cell_type": "markdown",
   "metadata": {},
   "source": [
    "### Key Concept: Inheritance\n",
    "\n",
    "A 'child' class can be created from a 'parent' class, whereby the child will bring over attributes and methods that its parent has, but where new features can be created as well. \n",
    "\n",
    "This would be useful if you want to create multiple classes that would have some features that are kept the same between them. You would simply create a parent class of these children classes that have those maintained features.\n",
    "\n",
    "Imagine we want to create different types of clients but still have all the base attributes and methods found in client currently. \n",
    "\n",
    "For example, let's create a class called *Savings* that inherits from the *Client* class. In doing so, we do not need to write another `__init__` method as it will inherit this from its parent."
   ]
  },
  {
   "cell_type": "code",
   "execution_count": 15,
   "metadata": {},
   "outputs": [],
   "source": [
    "# create the Savings class below\n",
    "class Savings(Client):\n",
    "    interest_rate = 0.005\n",
    "    \n",
    "    def update_balance(self):\n",
    "        self.balance += self.balance*self.interest_rate\n",
    "        return self.balance\n"
   ]
  },
  {
   "cell_type": "code",
   "execution_count": 16,
   "metadata": {},
   "outputs": [],
   "source": [
    "# create an instance the same way as a Client but this time by calling Savings instead\n",
    "Lina_Tran = Savings(\"Lina Tran\", 50)\n",
    "John_Doe = Client(\"John Doe\", 500)"
   ]
  },
  {
   "cell_type": "code",
   "execution_count": 17,
   "metadata": {},
   "outputs": [
    {
     "name": "stdout",
     "output_type": "stream",
     "text": [
      "Lina Tran\n",
      "150\n",
      "0.005\n"
     ]
    }
   ],
   "source": [
    "# it now has access to the new attributes and methods in Savings...\n",
    "print (Lina_Tran.name)\n",
    "print (Lina_Tran.balance)\n",
    "print (Lina_Tran.interest_rate)"
   ]
  },
  {
   "cell_type": "code",
   "execution_count": 18,
   "metadata": {},
   "outputs": [
    {
     "data": {
      "text/plain": [
       "150.75"
      ]
     },
     "execution_count": 18,
     "metadata": {},
     "output_type": "execute_result"
    }
   ],
   "source": [
    "# ...as well as access to attributes and methods from the Client class as well\n",
    "Lina_Tran.update_balance()"
   ]
  },
  {
   "cell_type": "code",
   "execution_count": 19,
   "metadata": {},
   "outputs": [],
   "source": [
    "#defining a method outside the class definition\n",
    "def check_balance(self):\n",
    "    return self.balance\n",
    "\n",
    "Client.check_balance = check_balance"
   ]
  },
  {
   "cell_type": "code",
   "execution_count": 20,
   "metadata": {},
   "outputs": [
    {
     "data": {
      "text/plain": [
       "600"
      ]
     },
     "execution_count": 20,
     "metadata": {},
     "output_type": "execute_result"
    }
   ],
   "source": [
    "John_Doe.check_balance()"
   ]
  },
  {
   "cell_type": "code",
   "execution_count": null,
   "metadata": {},
   "outputs": [],
   "source": []
  }
 ],
 "metadata": {
  "kernelspec": {
   "display_name": "Python 3",
   "language": "python",
   "name": "python3"
  },
  "language_info": {
   "codemirror_mode": {
    "name": "ipython",
    "version": 3
   },
   "file_extension": ".py",
   "mimetype": "text/x-python",
   "name": "python",
   "nbconvert_exporter": "python",
   "pygments_lexer": "ipython3",
   "version": "3.6.9"
  }
 },
 "nbformat": 4,
 "nbformat_minor": 1
}
