{
 "cells": [
  {
   "cell_type": "markdown",
   "metadata": {},
   "source": [
    "PROBLEM SHEET 5: This week we are going to continue learning how to use matplotlib, you will generate your own user defined functions to solve mathematical problems and we will start to explore the python package scipy, the package htat turns python into a powerful tool for scientific analysis."
   ]
  },
  {
   "cell_type": "markdown",
   "metadata": {},
   "source": [
    "* http://matplotlib.org/ is an online resource showing many examples, clicking on a graph in the gallery opens the code that produced it.\n",
    "\n",
    "* https://www.scipy.org/ is an online resource from the developers of scipy."
   ]
  },
  {
   "cell_type": "markdown",
   "metadata": {},
   "source": [
    "### Standard Header\n",
    "As we will be utilizing a number of packages with reasonably long names, we will adopt the _de facto_ standard module abbreviations in the following header.  We also ensure that our [division behavior is sensible](http://www.python.org/dev/peps/pep-0238/) by importing from `__future__`:  _i.e._, promotion to `double` will occur from `int` or `long` data types involving division:  `1/2 == 0.5`.  Although this is the default in Python 3, it is a trivial way to help this notebook work in Python 2 if that's what you are using."
   ]
  },
  {
   "cell_type": "code",
   "execution_count": 1,
   "metadata": {},
   "outputs": [],
   "source": [
    "#%matplotlib inline \n",
    "# this line is required for the plots to appear in the Jupyter cells, rather than launching the matplotlib GUI\n",
    "%matplotlib widget \n",
    "#this allows interactive view but you need to be in classic rather than CoCalc Jupyter notebook for this to work\n",
    "\n",
    "import matplotlib\n",
    "\n",
    "import numpy as np\n",
    "\n",
    "import matplotlib.pyplot as plt\n",
    "\n",
    "\n",
    "# notice two underscores _ either side of future"
   ]
  },
  {
   "cell_type": "markdown",
   "metadata": {},
   "source": [
    "## PS5 Ex1: (Marks 6/10)\n",
    "\n",
    "Within PH2130 Mathematical Methods (see Chapter 4 of the notes) you are working with the concept of a *fourier series*, the expansion of an arbitrary periodic function $f(x)$ as a linear combination of sines and cosines, or in an exponential form. In sine and cosine form this takes the expression: $$f(x)=\\frac{a_{0}}{2} + \\sum_{n=1}^{\\infty} [a_{n}\\cos(\\frac{n\\pi x}{L})+b_{n}\\sin(\\frac{n\\pi x}{L})]$$\n",
    "\n",
    "The constants $a_{n}$ and $b_{n}$ are called *Fourier coefficients*. Notice that a coefficient $b_{0}$ is not needed as it would multiply $\\sin(0) = 0$. The $a_{0}$ term contains the factor of 2 for conventional reasons as this will allow us to write down formulae for $a_{0}$ and $a_{n}$ that have a similar form.\n",
    "\n",
    "    \n",
    "**a)** Write a *user defined function* to sum the values up to the $n^{th}$ term of a fourier series to approximate a square wave of the form: $$ f(x)=\\left\\{\n",
    "  \\begin{array}{l l}\n",
    "    -1 & \\quad \\pi\\leq x \\leq 2\\pi\\\\\n",
    "    1 & \\quad 0 \\leq x < \\pi\\\\\n",
    "  \\end{array} \\right.  $$\n",
    "\n",
    "\n",
    "**b)** Modify your program to include a *function* to sum the values up to the $n^{th}$ term of a fourier series to approximate a saw-tooth wave of the form:\n",
    "\n",
    "$$ f(x)= x,\\qquad 0\\leq x \\leq \\pi $$ \n",
    "\n",
    "**c)** Plot both functions for the sum of n up to 9, 99 and 999 as two subplots on the same figure, see example figure 1. *NOTE: to observe the Gibbs Phenomena you must have enough resolution in $x$.*\n",
    "\n",
    "**d)** Animate a plot of the square wave so that it shows the evolution of the fourier series as more elements are added up to n=20.\n",
    "\n",
    "<left> <img src=\"fourierseries.png\" style=\"max-width:90%\">\n",
    "    **Figure 1:** Fourier series for a squarewave and a sawtooth \n"
   ]
  },
  {
   "cell_type": "code",
   "execution_count": 7,
   "metadata": {},
   "outputs": [
    {
     "data": {
      "application/vnd.jupyter.widget-view+json": {
       "model_id": "9d8610e5a5e948159a524fd8754c3413",
       "version_major": 2,
       "version_minor": 0
      },
      "text/plain": [
       "Canvas(toolbar=Toolbar(toolitems=[('Home', 'Reset original view', 'home', 'home'), ('Back', 'Back to previous …"
      ]
     },
     "metadata": {},
     "output_type": "display_data"
    },
    {
     "data": {
      "application/vnd.jupyter.widget-view+json": {
       "model_id": "5098ac594bd74a469bf399569dc3a849",
       "version_major": 2,
       "version_minor": 0
      },
      "text/plain": [
       "Canvas(toolbar=Toolbar(toolitems=[('Home', 'Reset original view', 'home', 'home'), ('Back', 'Back to previous …"
      ]
     },
     "metadata": {},
     "output_type": "display_data"
    },
    {
     "data": {
      "text/plain": [
       "[<matplotlib.lines.Line2D at 0x7fc6b404c9b0>]"
      ]
     },
     "execution_count": 7,
     "metadata": {},
     "output_type": "execute_result"
    }
   ],
   "source": [
    "#PS5 Ex1:\n",
    "import numpy as np\n",
    "import scipy.integrate as integrate\n",
    "from matplotlib.animation import FuncAnimation\n",
    "\n",
    "fig1 = plt.figure()\n",
    "axe1 = fig1.add_subplot()\n",
    "fig2 = plt.figure()\n",
    "axe2 = fig2.add_subplot()\n",
    "\n",
    "x = np.arange(0, np.pi*2, 0.01)\n",
    "\n",
    "def square(i, n):\n",
    "    \"\"\"Generates a square wave for i numbers of iterations using fourier\"\"\"\n",
    "    nodds = np.arange(1, n, 2)\n",
    "    sum_terms = []\n",
    "    for n in nodds:\n",
    "        sum_term = (1/(n))*(np.sin((n*np.pi*i)/np.pi))\n",
    "        sum_terms.append(sum_term)\n",
    "    return (4/np.pi)*sum(sum_terms)\n",
    "\n",
    "def plt_square(n):\n",
    "    \"\"\"Plots a square wave for given n fourier\"\"\"\n",
    "    y = []\n",
    "    for i in x:\n",
    "        y.append(square(i, n))\n",
    "    return y\n",
    "\n",
    "def linear(i, n):\n",
    "    \"\"\"Generates a linear graph for i numbers of iterations using fourier\"\"\"\n",
    "    ns = np.arange(1, n)\n",
    "    sum_terms = []\n",
    "    for n in ns:\n",
    "        sum_term = (( np.pi*-2*(-1)**n )/( np.pi*n )) * (np.sin(( n*np.pi*i )/( np.pi )))\n",
    "        sum_terms.append(sum_term)\n",
    "    return sum(sum_terms)\n",
    "\n",
    "\n",
    "def plt_linear(n):\n",
    "    \"\"\"Plots a linear graph for given n fourier\"\"\"\n",
    "    y = []\n",
    "    for i in x:\n",
    "        y.append(linear(i, n))\n",
    "    return y\n",
    "\n",
    "\n",
    "# Set the x-axis ticks\n",
    "axe1.set_xticks([0, np.pi/2, np.pi, 3*np.pi/2, 2*np.pi])\n",
    "axe1.set_xticklabels([r'$0$',r'$\\pi/2$','$\\pi$',r'$3\\pi/2$',r'$2\\pi$'])\n",
    "# Set the y-axis ticks\n",
    "axe1.set_yticks([-1,0,1])\n",
    "axe1.set_yticklabels([r'-1',r'0',r'1'])\n",
    "axe1.plot(x, plt_square(9), 'b', label=\"9\")\n",
    "axe1.plot(x, plt_square(99), 'g', label=\"99\")\n",
    "axe1.plot(x, plt_square(999), 'r', label=\"999\")\n",
    "\n",
    "# Set the x-axis ticks\n",
    "axe2.set_xticks([0, np.pi/2, np.pi, 3*np.pi/2, 2*np.pi])\n",
    "axe2.set_xticklabels([r'$0$',r'$\\pi/2$','$\\pi$',r'$3\\pi/2$',r'$2\\pi$'])\n",
    "# Set the y-axis ticks\n",
    "axe2.set_yticks([0,np.pi/2,np.pi])\n",
    "axe2.set_yticklabels([r'0',r'$\\pi/2$',r'$\\pi$'])\n",
    "axe2.plot(x, plt_linear(9), 'b', label=\"9\")\n",
    "axe2.plot(x, plt_linear(99), 'g', label=\"99\")\n",
    "axe2.plot(x, plt_linear(999), 'r', label=\"999\")\n"
   ]
  },
  {
   "cell_type": "code",
   "execution_count": null,
   "metadata": {},
   "outputs": [],
   "source": [
    "import numpy as np\n",
    "import matplotlib.pyplot as plt\n",
    "from matplotlib.animation import FuncAnimation\n",
    "\n",
    "fig, ax = plt.subplots()\n",
    "xdata, ydata = [], []\n",
    "ln, = plt.plot([], [], 'r')\n",
    "\n",
    "x = np.arange(0, np.pi*2, 0.01)\n",
    "\n",
    "def square(i, n):\n",
    "    nodds = np.arange(1, n, 2)\n",
    "    sum_terms = []\n",
    "    for n in nodds:\n",
    "        sum_term = (1/(n))*(np.sin((n*np.pi*i)/np.pi))\n",
    "        sum_terms.append(sum_term)\n",
    "    return (4/np.pi)*sum(sum_terms)\n",
    "\n",
    "def plt_square(n):\n",
    "    y = []\n",
    "    for i in x:\n",
    "        y.append(square(i, n))\n",
    "    return y\n",
    "\n",
    "def init():\n",
    "    # Set the x-axis ticks\n",
    "    ax.set(ylim=(-2,2))\n",
    "    ax.set_xticks([0, np.pi/2, np.pi, 3*np.pi/2, 2*np.pi])\n",
    "    ax.set_xticklabels([r'$0$',r'$\\pi/2$','$\\pi$',r'$3\\pi/2$',r'$2\\pi$'])\n",
    "    # Set the y-axis ticks\n",
    "    ax.set_yticks([-2,-1,0,1,2])\n",
    "    ax.set_yticklabels(['-2','-1','0','1','2'])\n",
    "    return ln,\n",
    "\n",
    "def update(frame):\n",
    "    ax.plot(x, plt_square(frame))\n",
    "    return ln,\n",
    "\n",
    "\n",
    "ani = FuncAnimation(fig, update, frames=np.arange(1, 20),\n",
    "                    init_func=init, blit=False, repeat_delay=30000)\n",
    "plt.show()"
   ]
  },
  {
   "cell_type": "markdown",
   "metadata": {},
   "source": [
    "## PS5 Ex2: (Marks 4/10)\n",
    "\n",
    "The code curvefit.py demonstrates the *scipy* function *curve\\_fit()*, in this example data is generated with the functional form: $y=a\\exp(-b*x) + c $ with the addition of a noise term. A curve fitting routine based on a non-linear least squares fit using a *Levenburg-Marquardt algorithm* returns the fitting parameters *popt*. *pcov* returns a 2D array which is the estimated covariance of *popt*. The diagonals provide the variance of the parameter estimate.\n",
    "\n",
    "The syntax for *curve\\_fit* and other commonly used optimisation algorithms can be found here:\n",
    "\n",
    "http://docs.scipy.org/doc/scipy/reference/tutorial/optimize.html\n",
    "\n",
    "**a)** Run the example *curvefit.py* shown below, record the fit values obtained.\n",
    "\n",
    "**b)** Modify the program *curvefit.py* such that for each point it calculates a term $yerr = \\sqrt{(abs(yn-y))}$ add this to the plot as a set of error bars, use the *yerr* array as an argument for sigma to weight the least squares fit.\n",
    "\n",
    "**[curve\\_fit(f, xdata, ydata, p0=None, sigma=None, **kw)]}**\n",
    "\n",
    "Compare the result of the fit with that of part a.\n",
    "\n",
    "\n",
    "**c)** The data in file fitting_ProblemSheet5data.dat, is of the functional form $y=a\\sin(bx)$, write a program to find the parameters $a$ and $b$. Plot the data, along with your best fit result."
   ]
  },
  {
   "cell_type": "code",
   "execution_count": 2,
   "metadata": {},
   "outputs": [
    {
     "name": "stdout",
     "output_type": "stream",
     "text": [
      "Parameters :  [3.15516336 1.15198224 5.07396649]\n",
      "Covariance :  [[ 0.01750883  0.00438678  0.00145017]\n",
      " [ 0.00438678  0.01269816 -0.00602473]\n",
      " [ 0.00145017 -0.00602473  0.00472397]]\n"
     ]
    },
    {
     "data": {
      "application/vnd.jupyter.widget-view+json": {
       "model_id": "9f2cc3ce7019454abdd3826962ebdc90",
       "version_major": 2,
       "version_minor": 0
      },
      "text/plain": [
       "Canvas(toolbar=Toolbar(toolitems=[('Home', 'Reset original view', 'home', 'home'), ('Back', 'Back to previous …"
      ]
     },
     "metadata": {},
     "output_type": "display_data"
    }
   ],
   "source": [
    "#PS5Ex2:\n",
    "# curvefit.py Problem Sheet 5 example\n",
    "import numpy as np\n",
    "from scipy.optimize import curve_fit\n",
    "import matplotlib.pyplot as plt\n",
    "\n",
    "yerr = []\n",
    "\n",
    "def func(x, a, b, c):\n",
    "    return np.pi -a*np.exp(-b*x) + c # function to generate data for curve fit\n",
    "# The first part of this program generates a set of data that follows a particular functional form that allows us to test the curvefit routine    \n",
    "x = np.linspace(0,4,50)\n",
    "y = func(x, 3.0, 1.3, 5)\n",
    "yn = y + 0.2*np.random.normal(size=len(x)) # adding some noise to the data points\n",
    "\n",
    "# Now that we have our data we can attempt to fit to the curve \n",
    "popt, pcov = curve_fit(func, x, yn) # performing curve fit, and returning parameters\n",
    "print ('Parameters : ', popt)\n",
    "print ('Covariance : ', pcov)\n",
    "# graphical output of results\n",
    "fig=plt.figure()\n",
    "plt.scatter(x,y, label='data')\n",
    "plt.scatter(x,yn, color='r', label='data + noise')\n",
    "plt.errorbar(x, func(x,popt[0],popt[1],popt[2]), yerr=np.sqrt(abs(yn - y)), color='green', label='best fit')\n",
    "plt.legend()\n",
    "plt.show()\n",
    "\n",
    "\n",
    "##Parameters :  [3.08269765 1.43872177 4.97656905]\n",
    "##Covariance :  [[ 0.01668606  0.00652624  0.00067302]\n",
    "## [ 0.00652624  0.01553175 -0.00437083]\n",
    "## [ 0.00067302 -0.00437083  0.00256214]]\n",
    "\n"
   ]
  },
  {
   "cell_type": "code",
   "execution_count": 3,
   "metadata": {},
   "outputs": [
    {
     "data": {
      "application/vnd.jupyter.widget-view+json": {
       "model_id": "c979e792c7de414d9aec618e94c1b837",
       "version_major": 2,
       "version_minor": 0
      },
      "text/plain": [
       "Canvas(toolbar=Toolbar(toolitems=[('Home', 'Reset original view', 'home', 'home'), ('Back', 'Back to previous …"
      ]
     },
     "metadata": {},
     "output_type": "display_data"
    },
    {
     "name": "stdout",
     "output_type": "stream",
     "text": [
      "a = 2.9858134914121535, b = 3.129224757290076\n"
     ]
    },
    {
     "data": {
      "text/plain": [
       "<matplotlib.legend.Legend at 0x7fc6b63e7860>"
      ]
     },
     "execution_count": 3,
     "metadata": {},
     "output_type": "execute_result"
    }
   ],
   "source": [
    "from scipy.optimize import curve_fit\n",
    "\n",
    "data = np.genfromtxt(\"fitting_ProblemSheet5data.dat\")\n",
    "\n",
    "def func(x, a, b):\n",
    "    return a*np.sin(b*x)\n",
    "\n",
    "fig, ax = plt.subplots()\n",
    "\n",
    "popt, pcov = curve_fit(func, data.transpose()[0], data.transpose()[1])\n",
    "\n",
    "ax.scatter(data.transpose()[0], data.transpose()[1], color=\"r\", marker=\"x\", label='data')\n",
    "print(f'a = {popt[0]}, b = {popt[1]}')\n",
    "x = np.linspace(0,2,50)\n",
    "y = np.vectorize(lambda x : func(x, popt[0], popt[1]))\n",
    "ax.plot(x, y(x), color='k', label='best fit')\n",
    "ax.legend()"
   ]
  },
  {
   "cell_type": "code",
   "execution_count": null,
   "metadata": {},
   "outputs": [],
   "source": [
    "#ignore this, it's something that helps styling the notebook.\n",
    "from IPython.core.display import HTML\n",
    "def css_styling():\n",
    "    styles = open(\"custom.css\", \"r\").read()\n",
    "    return HTML(styles)\n",
    "css_styling()"
   ]
  },
  {
   "cell_type": "code",
   "execution_count": null,
   "metadata": {},
   "outputs": [],
   "source": []
  },
  {
   "cell_type": "code",
   "execution_count": null,
   "metadata": {},
   "outputs": [],
   "source": []
  }
 ],
 "metadata": {
  "kernelspec": {
   "display_name": "Python 3",
   "language": "python",
   "name": "python3"
  },
  "language_info": {
   "codemirror_mode": {
    "name": "ipython",
    "version": 3
   },
   "file_extension": ".py",
   "mimetype": "text/x-python",
   "name": "python",
   "nbconvert_exporter": "python",
   "pygments_lexer": "ipython3",
   "version": "3.6.9"
  }
 },
 "nbformat": 4,
 "nbformat_minor": 4
}
