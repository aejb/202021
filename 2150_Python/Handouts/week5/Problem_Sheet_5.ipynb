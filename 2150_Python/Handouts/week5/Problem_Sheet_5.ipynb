{
 "cells": [
  {
   "cell_type": "markdown",
   "metadata": {},
   "source": [
    "<div class=\"info\">\n",
    "PROBLEM SHEET 5: This week we are going to continue learning how to use matplotlib, you will generate your own user defined functions to solve mathematical problems and we will start to explore the python package scipy, the package htat turns python into a powerful tool for scientific analysis."
   ]
  },
  {
   "cell_type": "markdown",
   "metadata": {},
   "source": [
    "* http://matplotlib.org/ is an online resource showing many examples, clicking on a graph in the gallery opens the code that produced it.\n",
    "\n",
    "* https://www.scipy.org/ is an online resource from the developers of scipy."
   ]
  },
  {
   "cell_type": "markdown",
   "metadata": {},
   "source": [
    "### Standard Header\n",
    "As we will be utilizing a number of packages with reasonably long names, we will adopt the _de facto_ standard module abbreviations in the following header.  We also ensure that our [division behavior is sensible](http://www.python.org/dev/peps/pep-0238/) by importing from `__future__`:  _i.e._, promotion to `double` will occur from `int` or `long` data types involving division:  `1/2 == 0.5`.  Although this is the default in Python 3, it is a trivial way to help this notebook work in Python 2 if that's what you are using."
   ]
  },
  {
   "cell_type": "code",
   "execution_count": 1,
   "metadata": {},
   "outputs": [],
   "source": [
    "#%matplotlib inline \n",
    "# this line is required for the plots to appear in the Jupyter cells, rather than launching the matplotlib GUI\n",
    "%matplotlib widget \n",
    "#this allows interactive view but you need to be in classic rather than CoCalc Jupyter notebook for this to work\n",
    "\n",
    "import matplotlib\n",
    "\n",
    "import numpy as np\n",
    "\n",
    "import matplotlib.pyplot as plt\n",
    "\n",
    "# Let printing work the same in Python 2 and 3\n",
    "from __future__ import division,print_function\n",
    "\n",
    "# notice two underscores _ either side of future"
   ]
  },
  {
   "cell_type": "markdown",
   "metadata": {},
   "source": [
    "## PS5 Ex1: (Marks 6/10)\n",
    "\n",
    "Within PH2130 Mathematical Methods (see Chapter 4 of the notes) you are working with the concept of a *fourier series*, the expansion of an arbitrary periodic function $f(x)$ as a linear combination of sines and cosines, or in an exponential form. In sine and cosine form this takes the expression: $$f(x)=\\frac{a_{0}}{2} + \\sum_{n=1}^{\\infty} [a_{n}\\cos(\\frac{n\\pi x}{L})+b_{n}\\sin(\\frac{n\\pi x}{L})]$$\n",
    "\n",
    "The constants $a_{n}$ and $b_{n}$ are called *Fourier coefficients*. Notice that a coefficient $b_{0}$ is not needed as it would multiply $\\sin(0) = 0$. The $a_{0}$ term contains the factor of 2 for conventional reasons as this will allow us to write down formulae for $a_{0}$ and $a_{n}$ that have a similar form.\n",
    "\n",
    "    \n",
    "**a)** Write a *user defined function* to sum the values up to the $n^{th}$ term of a fourier series to approximate a square wave of the form: $$ f(x)=\\left\\{\n",
    "  \\begin{array}{l l}\n",
    "    -1 & \\quad \\pi\\leq x \\leq 2\\pi\\\\\n",
    "    1 & \\quad 0 \\leq x < \\pi\\\\\n",
    "  \\end{array} \\right.  $$\n",
    "\n",
    "\n",
    "**b)** Modify your program to include a *function* to sum the values up to the $n^{th}$ term of a fourier series to approximate a saw-tooth wave of the form:\n",
    "\n",
    "$$ f(x)= x,\\qquad 0\\leq x \\leq \\pi $$ \n",
    "\n",
    "**c)** Plot both functions for the sum of n up to 9, 99 and 999 as two subplots on the same figure, see example figure 1. *NOTE: to observe the Gibbs Phenomena you must have enough resolution in $x$.*\n",
    "\n",
    "**d)** Animate a plot of the square wave so that it shows the evolution of the fourier series as more elements are added up to n=20.\n",
    "\n",
    "<left> <img src=\"fourierseries.png\" style=\"max-width:90%\">\n",
    "    **Figure 1:** Fourier series for a squarewave and a sawtooth \n"
   ]
  },
  {
   "cell_type": "code",
   "execution_count": null,
   "metadata": {},
   "outputs": [],
   "source": [
    "#PS5 Ex1:"
   ]
  },
  {
   "cell_type": "markdown",
   "metadata": {},
   "source": [
    "## PS5 Ex2: (Marks 4/10)\n",
    "\n",
    "The code curvefit.py demonstrates the *scipy* function *curve\\_fit()*, in this example data is generated with the functional form: $y=a\\exp(-b*x) + c $ with the addition of a noise term. A curve fitting routine based on a non-linear least squares fit using a *Levenburg-Marquardt algorithm* returns the fitting parameters *popt*. *pcov* returns a 2D array which is the estimated covariance of *popt*. The diagonals provide the variance of the parameter estimate.\n",
    "\n",
    "The syntax for *curve\\_fit* and other commonly used optimisation algorithms can be found here:\n",
    "\n",
    "http://docs.scipy.org/doc/scipy/reference/tutorial/optimize.html\n",
    "\n",
    "**a)** Run the example *curvefit.py* shown below, record the fit values obtained.\n",
    "\n",
    "**b)** Modify the program *curvefit.py* such that for each point it calculates a term $yerr = \\sqrt{(abs(yn-y))}$ add this to the plot as a set of error bars, use the *yerr* array as an argument for sigma to weight the least squares fit.\n",
    "\n",
    "**[curve\\_fit(f, xdata, ydata, p0=None, sigma=None, **kw)]}**\n",
    "\n",
    "Compare the result of the fit with that of part a.\n",
    "\n",
    "\n",
    "**c)** The data in file fitting_ProblemSheet5data.dat, is of the functional form $y=a\\sin(bx)$, write a program to find the parameters $a$ and $b$. Plot the data, along with your best fit result."
   ]
  },
  {
   "cell_type": "code",
   "execution_count": 2,
   "metadata": {},
   "outputs": [
    {
     "name": "stdout",
     "output_type": "stream",
     "text": [
      "Parameters :  [3.15608797 1.33805811 5.04421476]\n",
      "Covariance :  [[ 0.01365752  0.00466165  0.00067511]\n",
      " [ 0.00466165  0.01125614 -0.00381973]\n",
      " [ 0.00067511 -0.00381973  0.00249135]]\n"
     ]
    },
    {
     "data": {
      "application/vnd.jupyter.widget-view+json": {
       "model_id": "f0db98da8bd349f58d494603d30914a6",
       "version_major": 2,
       "version_minor": 0
      },
      "text/plain": [
       "Canvas(toolbar=Toolbar(toolitems=[('Home', 'Reset original view', 'home', 'home'), ('Back', 'Back to previous …"
      ]
     },
     "metadata": {},
     "output_type": "display_data"
    }
   ],
   "source": [
    "#PS5Ex2:\n",
    "# curvefit.py Problem Sheet 5 example\n",
    "import numpy as np\n",
    "from scipy.optimize import curve_fit\n",
    "import matplotlib.pyplot as plt\n",
    "\n",
    "def func(x, a, b, c):\n",
    "    return np.pi -a*np.exp(-b*x) + c # function to generate data for curve fit\n",
    "# The first part of this program generates a set of data that follows a particular functional form that allows us to test the curvefit routine    \n",
    "x = np.linspace(0,4,50)\n",
    "y = func(x, 3.0, 1.3, 5)\n",
    "yn = y + 0.2*np.random.normal(size=len(x)) # adding some noise to the data points\n",
    "\n",
    "# Now that we have our data we can attempt to fit to the curve \n",
    "popt, pcov = curve_fit(func, x, yn) # performing curve fit, and returning parameters\n",
    "print ('Parameters : ', popt)\n",
    "print ('Covariance : ', pcov)\n",
    "# graphical output of results\n",
    "fig=plt.figure()\n",
    "plt.scatter(x,y, label='data')\n",
    "plt.scatter(x,yn, color='r', label='data + noise')\n",
    "plt.plot(x, func(x,popt[0],popt[1],popt[2]), color='green', label='best fit')\n",
    "plt.legend()\n",
    "plt.show()"
   ]
  },
  {
   "cell_type": "code",
   "execution_count": 11,
   "metadata": {},
   "outputs": [
    {
     "data": {
      "text/html": [
       "<style>\n",
       "pre {\n",
       "    background-color: #fcf2f2;\n",
       "    padding: 0.5em;\n",
       "    margin: 0.5em;\n",
       "    -webkit-user-select: none;\n",
       "    -khtml-user-select: none;\n",
       "    -moz-user-select: none;\n",
       "    -ms-user-select: none;\n",
       "    -o-user-select: none;\n",
       "    user-select: none;\n",
       "\tborder-radius: 5px;\n",
       "}\n",
       ".code {    \n",
       "    border-color: RebeccaPurple;\n",
       "    border-left: 5px solid RebeccaPurple;\n",
       "\tbackground-color: #fcf2f2;\n",
       "    padding: 0.5em;\n",
       "    margin: 0.5em;\n",
       "    -webkit-user-select: none;\n",
       "    -khtml-user-select: none;\n",
       "    -moz-user-select: none;\n",
       "    -ms-user-select: none;\n",
       "    -o-user-select: none;\n",
       "    user-select: none;\n",
       "    border-radius: 5px;\n",
       "    }\n",
       "pre.out {    \n",
       "    border-color: black;\n",
       "    border-left: 5px solid black;\n",
       "\tbackground-color: #fcf2f2;\n",
       "    padding: 0.5em;\n",
       "    margin: 0.5em;\n",
       "    }\n",
       "pre.error {    \n",
       "    border-color: red;\n",
       "    border-left: 5px solid red;\n",
       "\tbackground-color: #fcf2f2;\n",
       "    padding: 0.5em;\n",
       "    margin: 0.5em;\n",
       "    }\n",
       "div.info {\n",
       "\tbackground-color: #fcf2f2;\n",
       "    border-color: blue;\n",
       "    border: 5px solid blue;\n",
       "\tmargin: 0.5em 5em 0.5em 5em;\n",
       "\tpadding: 0.5em;\n",
       "\tborder-radius: 10px;\n",
       "}\n",
       ".exercise {\n",
       "\tbackground-color: #efefef;\n",
       "    border-left: 5px solid green;\n",
       "\tmargin: 0.5em;\n",
       "\tpadding: 0.5em;\n",
       "\tborder-radius: 5px;\n",
       "}\n",
       ".exercise:before {\n",
       "    content: \"Exercise: \";\n",
       "    font-size: 20px;\n",
       "    font-weight: bold;\n",
       "}\n",
       ".code pre {    \n",
       "    padding: 0;\n",
       "    margin: 0;\n",
       "    background-color: #fcf2f2;\n",
       "    }\n",
       ".code pre code {\n",
       "    background-color: #fcf2f2;\n",
       "}\n",
       ".waypoint {\n",
       "    background-color: #efefef;\n",
       "    border-left: 5px solid orange;\n",
       "    margin: 0.5em;\n",
       "    padding: 0.5em;\n",
       "    border-radius: 5px;\n",
       "}\n",
       ".waypoint:before {\n",
       "    content: \"Waypoint: \";\n",
       "    font-size: 20px;\n",
       "    font-weight: bold;\n",
       "}\n",
       "iframe {\n",
       "    margin: 0 auto;\n",
       "    display: block;\n",
       "    }\n",
       "</style>"
      ],
      "text/plain": [
       "<IPython.core.display.HTML object>"
      ]
     },
     "execution_count": 11,
     "metadata": {},
     "output_type": "execute_result"
    }
   ],
   "source": [
    "#ignore this, it's something that helps styling the notebook.\n",
    "from IPython.core.display import HTML\n",
    "def css_styling():\n",
    "    styles = open(\"custom.css\", \"r\").read()\n",
    "    return HTML(styles)\n",
    "css_styling()"
   ]
  },
  {
   "cell_type": "code",
   "execution_count": null,
   "metadata": {},
   "outputs": [],
   "source": []
  },
  {
   "cell_type": "code",
   "execution_count": null,
   "metadata": {},
   "outputs": [],
   "source": []
  }
 ],
 "metadata": {
  "kernelspec": {
   "display_name": "Python 3 (system-wide)",
   "language": "python",
   "name": "python3"
  },
  "language_info": {
   "codemirror_mode": {
    "name": "ipython",
    "version": 3
   },
   "file_extension": ".py",
   "mimetype": "text/x-python",
   "name": "python",
   "nbconvert_exporter": "python",
   "pygments_lexer": "ipython3",
   "version": "3.8.5"
  }
 },
 "nbformat": 4,
 "nbformat_minor": 4
}
