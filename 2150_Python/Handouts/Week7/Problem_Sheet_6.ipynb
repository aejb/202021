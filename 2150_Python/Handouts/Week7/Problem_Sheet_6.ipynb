{
 "cells": [
  {
   "cell_type": "markdown",
   "metadata": {},
   "source": [
    "<div class=\"info\">\n",
    "<b>PROBLEM SHEET 6:</b>    Random Numbers and Monte Carlo Simulations"
   ]
  },
  {
   "cell_type": "markdown",
   "metadata": {},
   "source": [
    "Monte Carlo calculations are a class of calculations that barely existed before the advent of computers. A Monte Carlo method is a technique that involves using random numbers and probability to solve problems. The term Monte Carlo Method was coined by *S. Ulam* and *Nicholas Metropolis* in reference to games of chance, a popular attraction in Monte Carlo, Monaco (*Metropolis and Ulam, 1949*). Monte Carlo simulation is a method for iteratively evaluating a deterministic model using sets of random numbers as inputs. This method is often used when the model is complex, nonlinear, or involves more than just a couple uncertain parameters. A simulation can typically involve over 10,000 evaluations of the model, a task which in the past was only practical using super computers."
   ]
  },
  {
   "cell_type": "markdown",
   "metadata": {},
   "source": [
    "### Standard Header\n",
    "As we will be utilizing a number of packages with reasonably long names, we will adopt the _de facto_ standard module abbreviations in the following header.  We also ensure that our [division behavior is sensible](http://www.python.org/dev/peps/pep-0238/) by importing from `__future__`:  _i.e._, promotion to `double` will occur from `int` or `long` data types involving division:  `1/2 == 0.5`.  Although this is the default in Python 3, it is a trivial way to help this notebook work in Python 2 if that's what you are using."
   ]
  },
  {
   "cell_type": "code",
   "execution_count": 12,
   "metadata": {},
   "outputs": [],
   "source": [
    "#%matplotlib inline \n",
    "# this line is required for the plots to appear in the Jupyter cells, rather than launching the matplotlib GUI\n",
    "%matplotlib widget \n",
    "#this allows interactive view but you need to be in classic rather than CoCalc Jupyter notebook for this to work\n",
    "\n",
    "import matplotlib\n",
    "\n",
    "import numpy as np\n",
    "\n",
    "import matplotlib.pyplot as plt\n",
    "\n",
    "# Let printing work the same in Python 2 and 3\n",
    "from __future__ import division,print_function\n",
    "\n",
    "# notice two underscores _ either side of future"
   ]
  },
  {
   "cell_type": "markdown",
   "metadata": {},
   "source": [
    "## PS6 Ex1: (Marks 4/10)\n",
    "\n",
    "Following the example given in the lecture write a program that uses a monte carlo simulation technique to estimate a value for $\\pi$, the stages required for the simulation are as follows:\n",
    "\n",
    "1. A simple algorithm to determine the desired value is produced, in this case the ratio between the area of a circle inscribed in a square and the area of the square is evaluated, $\\pi R^2= 4R^2$. Or as in figure 1, does the dart land within the board or not (assuming the average skill level of a typical physicist).\n",
    "2. An event is generated using random numbers to identify a position within the square\n",
    "3. A simple accept/reject rule is applied to determine whether the event lies within the circle or not.\n",
    "4. As the number of events increases, the uncertainty in the evaluation of $\\pi$ decreases, until an acceptable level is reached.\n",
    "5. Run your code for different number of events and tabulate the results.\n",
    "6. Plot the relative error ( $\\frac{\\pi_{approx}-\\pi}{\\pi}$) versus the number of events to confirm the relationship that $error \\propto \\sqrt{N}$ (what is the best way to display this?)\n",
    "\n",
    "<img src=\"dart.jpg\" style=\"max-width:50%\">\n",
    "\n",
    "**Figure 1:** Circle inscribed in a square.\n"
   ]
  },
  {
   "cell_type": "code",
   "execution_count": null,
   "metadata": {},
   "outputs": [],
   "source": [
    "#PS6 Ex1:"
   ]
  },
  {
   "cell_type": "markdown",
   "metadata": {},
   "source": [
    "## PS6 Ex2: (Marks 2/10)\n",
    "\n",
    "Write a Monte-Carlo based code to integrate the function shown in fig 2. The function represents the standard normal distribution with a mean of 0 and standard deviation of 1."
   ]
  },
  {
   "cell_type": "code",
   "execution_count": 13,
   "metadata": {},
   "outputs": [
    {
     "data": {
      "application/vnd.jupyter.widget-view+json": {
       "model_id": "b360239649f7406f90f68a57ecc06062",
       "version_major": 2,
       "version_minor": 0
      },
      "text/plain": [
       "Canvas(toolbar=Toolbar(toolitems=[('Home', 'Reset original view', 'home', 'home'), ('Back', 'Back to previous …"
      ]
     },
     "metadata": {},
     "output_type": "display_data"
    },
    {
     "data": {
      "text/plain": [
       "[<matplotlib.lines.Line2D at 0x7fc149d349d0>]"
      ]
     },
     "execution_count": 13,
     "metadata": {},
     "output_type": "execute_result"
    }
   ],
   "source": [
    "def Ex2_func(x):\n",
    "    return ((1/ np.sqrt(2*np.pi))*np.exp(-(x**2)/2) )\n",
    "X=np.linspace(-20,20,1000)\n",
    "fig2=plt.figure(figsize=(20,10))\n",
    "ax2=fig2.add_subplot(1, 1, 1)\n",
    "ax2.set_title('Figure 2')\n",
    "ax2.plot(X,Ex2_func(X))"
   ]
  },
  {
   "cell_type": "markdown",
   "metadata": {},
   "source": [
    "## PS6 Ex3: (Marks 4/10)\n",
    "\n",
    "In this exercise you are going to use Monte-Carlo techniques to simulate photons passing through a double slit experiment. \n",
    "\n",
    "Consider the situation shown in figure 3\n",
    "* plane parallel light is falling on a surface that contains two slits of width, $b$, separated by a distance, $d$. \n",
    "* The function that describes the probability of finding a photon at a given angle is given by,\n",
    "$I(\\theta)$.\n",
    "\n",
    "$$I(\\theta)\\propto \\rm{cos}^{2}\\left[\\frac{\\pi d \\rm{sin}(\\theta)}{\\lambda}\\right]\\rm{sinc}^{2}\\left[\\frac{\\pi b \\rm{sin}(\\theta)}{\\lambda}\\right]$$\n",
    "\n",
    "$$\\rm{sinc}(x)= \\rm{sin}(x)/x , \\rm{when}~(x\\neq 0), \\rm{or}~ 1~ \\rm{when} (x=0)$$\n",
    "Try $\\lambda = $550 nm,$  d=$100 $\\mu$m, $b=$10 $\\mu$m.\n",
    "\n",
    "\n",
    "1. Need the maximum value of $I(\\theta)$, occurs at $\\theta=0$.\n",
    "2. Compute the height of the box; the width of the box is $2\\pi$ (ranging from $-\\pi$ to $\\pi$)\n",
    "3. Throw random photons, until you get 1000 accepted photons.\n",
    "4. Plot a histogram to show counts versus scattered angle (ensure the there are enough bins to see interference patterns. (note this is not the projected image on a plane, so the distance to the image plane is not required).\n",
    "\n",
    "\n",
    "<img src=\"figure_3.png\" style=\"max-width:50%\">\n",
    "\n",
    "**Figure 3:** Young's Double Slit Experiment.\n"
   ]
  },
  {
   "cell_type": "markdown",
   "metadata": {},
   "source": [
    "### Some Additional code examples to help with PS6\n",
    "\n",
    "* using histograms to sort your data\n",
    "* Interpolation of discrete data set to be able to evaulate your trial function at any value in the range."
   ]
  },
  {
   "cell_type": "markdown",
   "metadata": {},
   "source": [
    " ### Numpy.histogram\n",
    " "
   ]
  },
  {
   "cell_type": "code",
   "execution_count": 11,
   "metadata": {},
   "outputs": [
    {
     "name": "stdout",
     "output_type": "stream",
     "text": [
      "Help on function histogram in module numpy:\n",
      "\n",
      "histogram(a, bins=10, range=None, normed=None, weights=None, density=None)\n",
      "    Compute the histogram of a set of data.\n",
      "    \n",
      "    Parameters\n",
      "    ----------\n",
      "    a : array_like\n",
      "        Input data. The histogram is computed over the flattened array.\n",
      "    bins : int or sequence of scalars or str, optional\n",
      "        If `bins` is an int, it defines the number of equal-width\n",
      "        bins in the given range (10, by default). If `bins` is a\n",
      "        sequence, it defines a monotonically increasing array of bin edges,\n",
      "        including the rightmost edge, allowing for non-uniform bin widths.\n",
      "    \n",
      "        .. versionadded:: 1.11.0\n",
      "    \n",
      "        If `bins` is a string, it defines the method used to calculate the\n",
      "        optimal bin width, as defined by `histogram_bin_edges`.\n",
      "    \n",
      "    range : (float, float), optional\n",
      "        The lower and upper range of the bins.  If not provided, range\n",
      "        is simply ``(a.min(), a.max())``.  Values outside the range are\n",
      "        ignored. The first element of the range must be less than or\n",
      "        equal to the second. `range` affects the automatic bin\n",
      "        computation as well. While bin width is computed to be optimal\n",
      "        based on the actual data within `range`, the bin count will fill\n",
      "        the entire range including portions containing no data.\n",
      "    normed : bool, optional\n",
      "    \n",
      "        .. deprecated:: 1.6.0\n",
      "    \n",
      "        This is equivalent to the `density` argument, but produces incorrect\n",
      "        results for unequal bin widths. It should not be used.\n",
      "    \n",
      "        .. versionchanged:: 1.15.0\n",
      "            DeprecationWarnings are actually emitted.\n",
      "    \n",
      "    weights : array_like, optional\n",
      "        An array of weights, of the same shape as `a`.  Each value in\n",
      "        `a` only contributes its associated weight towards the bin count\n",
      "        (instead of 1). If `density` is True, the weights are\n",
      "        normalized, so that the integral of the density over the range\n",
      "        remains 1.\n",
      "    density : bool, optional\n",
      "        If ``False``, the result will contain the number of samples in\n",
      "        each bin. If ``True``, the result is the value of the\n",
      "        probability *density* function at the bin, normalized such that\n",
      "        the *integral* over the range is 1. Note that the sum of the\n",
      "        histogram values will not be equal to 1 unless bins of unity\n",
      "        width are chosen; it is not a probability *mass* function.\n",
      "    \n",
      "        Overrides the ``normed`` keyword if given.\n",
      "    \n",
      "    Returns\n",
      "    -------\n",
      "    hist : array\n",
      "        The values of the histogram. See `density` and `weights` for a\n",
      "        description of the possible semantics.\n",
      "    bin_edges : array of dtype float\n",
      "        Return the bin edges ``(length(hist)+1)``.\n",
      "    \n",
      "    \n",
      "    See Also\n",
      "    --------\n",
      "    histogramdd, bincount, searchsorted, digitize, histogram_bin_edges\n",
      "    \n",
      "    Notes\n",
      "    -----\n",
      "    All but the last (righthand-most) bin is half-open.  In other words,\n",
      "    if `bins` is::\n",
      "    \n",
      "      [1, 2, 3, 4]\n",
      "    \n",
      "    then the first bin is ``[1, 2)`` (including 1, but excluding 2) and\n",
      "    the second ``[2, 3)``.  The last bin, however, is ``[3, 4]``, which\n",
      "    *includes* 4.\n",
      "    \n",
      "    \n",
      "    Examples\n",
      "    --------\n",
      "    >>> np.histogram([1, 2, 1], bins=[0, 1, 2, 3])\n",
      "    (array([0, 2, 1]), array([0, 1, 2, 3]))\n",
      "    >>> np.histogram(np.arange(4), bins=np.arange(5), density=True)\n",
      "    (array([0.25, 0.25, 0.25, 0.25]), array([0, 1, 2, 3, 4]))\n",
      "    >>> np.histogram([[1, 2, 1], [1, 0, 1]], bins=[0,1,2,3])\n",
      "    (array([1, 4, 1]), array([0, 1, 2, 3]))\n",
      "    \n",
      "    >>> a = np.arange(5)\n",
      "    >>> hist, bin_edges = np.histogram(a, density=True)\n",
      "    >>> hist\n",
      "    array([0.5, 0. , 0.5, 0. , 0. , 0.5, 0. , 0.5, 0. , 0.5])\n",
      "    >>> hist.sum()\n",
      "    2.4999999999999996\n",
      "    >>> np.sum(hist * np.diff(bin_edges))\n",
      "    1.0\n",
      "    \n",
      "    .. versionadded:: 1.11.0\n",
      "    \n",
      "    Automated Bin Selection Methods example, using 2 peak random data\n",
      "    with 2000 points:\n",
      "    \n",
      "    >>> import matplotlib.pyplot as plt\n",
      "    >>> rng = np.random.RandomState(10)  # deterministic random data\n",
      "    >>> a = np.hstack((rng.normal(size=1000),\n",
      "    ...                rng.normal(loc=5, scale=2, size=1000)))\n",
      "    >>> _ = plt.hist(a, bins='auto')  # arguments are passed to np.histogram\n",
      "    >>> plt.title(\"Histogram with 'auto' bins\")\n",
      "    Text(0.5, 1.0, \"Histogram with 'auto' bins\")\n",
      "    >>> plt.show()\n",
      "\n",
      "None\n"
     ]
    }
   ],
   "source": [
    "print(help(np.histogram))"
   ]
  },
  {
   "cell_type": "code",
   "execution_count": 14,
   "metadata": {},
   "outputs": [
    {
     "data": {
      "application/vnd.jupyter.widget-view+json": {
       "model_id": "cedeb658ff26454882fdd6ca7d9e5cc4",
       "version_major": 2,
       "version_minor": 0
      },
      "text/plain": [
       "Canvas(toolbar=Toolbar(toolitems=[('Home', 'Reset original view', 'home', 'home'), ('Back', 'Back to previous …"
      ]
     },
     "metadata": {},
     "output_type": "display_data"
    },
    {
     "name": "stdout",
     "output_type": "stream",
     "text": [
      "[7.78497888 6.03335863 5.83873416 5.06023627 5.83873416 4.67098733\n",
      " 4.8656118  3.11399155 2.72474261 2.53011814 2.33549366 2.33549366\n",
      " 1.75162025 2.72474261 1.75162025 1.16774683 0.97312236 0.77849789\n",
      " 0.97312236 0.97312236 0.77849789 1.16774683 0.58387342 1.55699578\n",
      " 0.38924894 0.97312236 0.77849789 0.77849789 0.77849789 0.58387342\n",
      " 1.16774683 0.38924894 1.16774683 1.3623713  0.19462447 0.38924894\n",
      " 0.58387342 0.97312236 0.77849789 0.77849789 0.38924894 0.19462447\n",
      " 0.77849789 0.         0.38924894 0.         0.19462447 0.\n",
      " 0.19462447 0.19462447 0.19462447 0.         0.38924894 0.77849789\n",
      " 0.         0.77849789 0.19462447 0.19462447 0.58387342 0.19462447\n",
      " 0.         0.         0.         0.19462447 0.19462447 0.\n",
      " 0.38924894 0.         0.19462447 0.         0.         0.19462447\n",
      " 0.38924894 0.         0.19462447 0.58387342 0.         0.19462447\n",
      " 0.38924894 0.         0.         0.19462447 0.19462447 0.58387342\n",
      " 0.         0.         0.19462447 0.38924894 0.         0.19462447\n",
      " 0.58387342 0.         0.         0.19462447 0.         0.\n",
      " 0.         0.         0.19462447 0.19462447 0.19462447 0.\n",
      " 0.         0.38924894 0.19462447 0.         0.         0.\n",
      " 0.19462447 0.19462447 0.38924894 0.         0.19462447 0.\n",
      " 0.         0.         0.19462447 0.         0.19462447 0.19462447\n",
      " 0.         0.         0.19462447 0.         0.         0.\n",
      " 0.         0.         0.         0.         0.19462447 0.\n",
      " 0.         0.         0.         0.19462447 0.19462447 0.\n",
      " 0.         0.         0.         0.         0.         0.\n",
      " 0.19462447 0.19462447 0.         0.         0.         0.\n",
      " 0.         0.         0.         0.         0.         0.\n",
      " 0.19462447 0.         0.         0.         0.         0.\n",
      " 0.         0.19462447 0.         0.19462447 0.         0.19462447\n",
      " 0.19462447 0.         0.19462447 0.         0.         0.\n",
      " 0.         0.         0.         0.19462447 0.         0.\n",
      " 0.         0.         0.         0.         0.         0.\n",
      " 0.         0.         0.         0.         0.         0.\n",
      " 0.         0.         0.         0.         0.         0.\n",
      " 0.         0.19462447 0.         0.         0.         0.\n",
      " 0.         0.         0.         0.         0.         0.\n",
      " 0.         0.         0.         0.         0.         0.\n",
      " 0.         0.         0.19462447 0.         0.         0.\n",
      " 0.         0.         0.         0.         0.         0.\n",
      " 0.         0.         0.19462447 0.         0.         0.\n",
      " 0.         0.         0.         0.         0.         0.19462447\n",
      " 0.         0.         0.         0.         0.         0.\n",
      " 0.         0.         0.         0.19462447 0.         0.\n",
      " 0.         0.         0.         0.         0.         0.\n",
      " 0.         0.         0.         0.         0.         0.\n",
      " 0.         0.         0.         0.         0.19462447 0.\n",
      " 0.         0.         0.         0.         0.         0.\n",
      " 0.         0.         0.         0.         0.         0.\n",
      " 0.         0.         0.         0.         0.         0.\n",
      " 0.         0.         0.38924894 0.19462447 0.         0.\n",
      " 0.         0.         0.         0.         0.         0.\n",
      " 0.         0.         0.         0.         0.         0.\n",
      " 0.         0.         0.         0.         0.         0.\n",
      " 0.         0.         0.         0.         0.         0.\n",
      " 0.         0.         0.19462447 0.         0.         0.\n",
      " 0.         0.19462447 0.         0.         0.         0.\n",
      " 0.         0.         0.         0.         0.         0.\n",
      " 0.         0.19462447 0.         0.         0.         0.\n",
      " 0.         0.         0.         0.         0.         0.\n",
      " 0.         0.         0.         0.         0.         0.\n",
      " 0.         0.         0.         0.         0.19462447 0.\n",
      " 0.         0.         0.         0.         0.         0.\n",
      " 0.         0.         0.         0.         0.         0.\n",
      " 0.         0.         0.         0.         0.         0.\n",
      " 0.         0.         0.         0.         0.         0.\n",
      " 0.         0.         0.         0.         0.         0.\n",
      " 0.         0.         0.         0.         0.         0.\n",
      " 0.         0.         0.         0.         0.         0.\n",
      " 0.         0.         0.         0.         0.         0.\n",
      " 0.         0.         0.         0.         0.         0.\n",
      " 0.         0.         0.         0.         0.         0.\n",
      " 0.         0.         0.         0.         0.         0.\n",
      " 0.         0.         0.         0.         0.         0.\n",
      " 0.         0.         0.         0.         0.         0.\n",
      " 0.         0.         0.         0.         0.         0.\n",
      " 0.         0.         0.         0.         0.         0.\n",
      " 0.         0.19462447 0.         0.         0.         0.\n",
      " 0.         0.         0.         0.         0.         0.\n",
      " 0.         0.         0.         0.         0.         0.\n",
      " 0.         0.         0.         0.         0.         0.\n",
      " 0.         0.         0.         0.         0.         0.\n",
      " 0.         0.         0.         0.         0.         0.\n",
      " 0.         0.         0.         0.19462447 0.         0.\n",
      " 0.         0.         0.         0.         0.         0.\n",
      " 0.         0.         0.         0.         0.         0.\n",
      " 0.         0.         0.         0.         0.         0.\n",
      " 0.         0.         0.         0.         0.         0.\n",
      " 0.         0.         0.         0.         0.         0.\n",
      " 0.         0.         0.         0.         0.         0.\n",
      " 0.         0.         0.         0.         0.         0.\n",
      " 0.         0.         0.         0.         0.         0.\n",
      " 0.         0.         0.         0.         0.         0.\n",
      " 0.         0.         0.         0.         0.         0.\n",
      " 0.         0.         0.         0.         0.         0.\n",
      " 0.         0.         0.         0.         0.         0.\n",
      " 0.         0.         0.         0.         0.         0.\n",
      " 0.         0.         0.         0.         0.         0.\n",
      " 0.         0.         0.         0.         0.         0.\n",
      " 0.         0.         0.         0.         0.         0.\n",
      " 0.         0.         0.         0.         0.         0.\n",
      " 0.         0.         0.         0.         0.         0.\n",
      " 0.         0.         0.         0.         0.         0.\n",
      " 0.         0.         0.         0.         0.         0.\n",
      " 0.         0.         0.         0.         0.         0.\n",
      " 0.         0.         0.         0.         0.         0.\n",
      " 0.         0.         0.         0.         0.         0.\n",
      " 0.         0.         0.         0.         0.         0.\n",
      " 0.         0.         0.         0.         0.         0.\n",
      " 0.         0.         0.         0.         0.         0.\n",
      " 0.         0.         0.         0.         0.         0.\n",
      " 0.         0.         0.         0.         0.         0.\n",
      " 0.         0.         0.         0.         0.         0.\n",
      " 0.         0.         0.         0.         0.         0.\n",
      " 0.         0.19462447 0.         0.         0.         0.\n",
      " 0.         0.         0.         0.         0.         0.\n",
      " 0.         0.         0.         0.         0.         0.\n",
      " 0.         0.         0.         0.         0.         0.\n",
      " 0.         0.19462447 0.         0.         0.         0.\n",
      " 0.         0.         0.         0.         0.         0.\n",
      " 0.         0.         0.         0.         0.         0.\n",
      " 0.         0.         0.         0.         0.         0.\n",
      " 0.         0.         0.         0.         0.         0.\n",
      " 0.         0.         0.         0.         0.         0.\n",
      " 0.         0.         0.         0.         0.         0.\n",
      " 0.         0.         0.         0.         0.         0.\n",
      " 0.         0.         0.         0.         0.         0.\n",
      " 0.         0.         0.         0.         0.         0.\n",
      " 0.         0.         0.         0.         0.         0.\n",
      " 0.         0.         0.         0.         0.         0.\n",
      " 0.         0.         0.         0.         0.         0.\n",
      " 0.         0.         0.19462447 0.         0.         0.\n",
      " 0.         0.         0.         0.         0.         0.\n",
      " 0.         0.         0.         0.         0.         0.\n",
      " 0.         0.         0.         0.         0.         0.\n",
      " 0.         0.         0.         0.         0.         0.\n",
      " 0.         0.         0.         0.         0.         0.\n",
      " 0.         0.         0.         0.         0.         0.\n",
      " 0.         0.         0.         0.         0.         0.\n",
      " 0.         0.         0.         0.         0.         0.\n",
      " 0.         0.         0.19462447 0.         0.         0.\n",
      " 0.         0.         0.         0.19462447 0.         0.\n",
      " 0.         0.         0.         0.         0.         0.\n",
      " 0.         0.         0.         0.         0.         0.\n",
      " 0.         0.         0.         0.         0.         0.\n",
      " 0.         0.         0.         0.         0.         0.\n",
      " 0.         0.         0.         0.         0.         0.\n",
      " 0.         0.         0.         0.         0.         0.\n",
      " 0.         0.         0.         0.         0.         0.\n",
      " 0.         0.         0.         0.         0.         0.\n",
      " 0.         0.         0.         0.         0.         0.\n",
      " 0.         0.         0.         0.         0.         0.\n",
      " 0.         0.         0.         0.         0.         0.\n",
      " 0.         0.         0.19462447 0.         0.         0.\n",
      " 0.         0.         0.         0.         0.         0.\n",
      " 0.         0.         0.         0.         0.         0.\n",
      " 0.         0.         0.         0.         0.         0.\n",
      " 0.         0.         0.         0.         0.         0.\n",
      " 0.         0.         0.         0.         0.         0.\n",
      " 0.         0.         0.         0.         0.         0.\n",
      " 0.         0.         0.         0.         0.         0.\n",
      " 0.         0.         0.         0.         0.         0.\n",
      " 0.         0.         0.         0.         0.         0.\n",
      " 0.         0.         0.         0.         0.         0.\n",
      " 0.         0.         0.         0.         0.         0.\n",
      " 0.19462447 0.         0.         0.         0.         0.\n",
      " 0.         0.         0.         0.         0.         0.\n",
      " 0.         0.         0.         0.         0.         0.\n",
      " 0.         0.         0.         0.        ]\n",
      "[0.80263081]\n",
      "[[4.58169375e-07]]\n"
     ]
    }
   ],
   "source": [
    "# An example montecarlo simulation for  a/x**2 fitting to data scaled to be 1 in the first bin of the histogram\n",
    "\n",
    "import numpy as np\n",
    "import matplotlib.pyplot as plt\n",
    "from scipy.optimize import curve_fit\n",
    "fig4=plt.figure(figsize=(20,10))\n",
    "ax4=fig4.add_subplot(1, 1, 1)\n",
    "a=1.\n",
    "def MyFunction(x,a): # defines the test function\n",
    "    return a/x**2\n",
    "start=0.1\n",
    "end=10   \n",
    "x= np.linspace(start,end,1000)\n",
    "y= MyFunction(x,a)/MyFunction(start+0.005,a) #scaling the test function to equal 1 at the centre of the first bin in the histogram of simulated data\n",
    "plt.plot(x,y,'o',label='MyFunction')\n",
    "n=1000\n",
    "z=np.zeros(n)\n",
    "k=0\n",
    "while k<n: # generates an array of n values where a value of x is appended to the array if condition is met\n",
    "    px=np.random.rand(1)*end\n",
    "    py = np.random.rand(1)*MyFunction(0.1,a)\n",
    "    if py< MyFunction(px,a): # condition that point is added to array if random number < scaled function evaluated at x\n",
    "        z[k]=px\n",
    "        k+= 1\n",
    "        \n",
    "                    \n",
    "hist, bin_edges=np.histogram(z,1000,range=(start,end),density=True)# histogram sorts z into bins, density = True\n",
    "print (hist)\n",
    "bin_middle=np.zeros(np.size(hist)) # histogram function returns bin edges, the next bit of code converts to bin middle\n",
    "for n in range (0,len(hist)):\n",
    "    bin_middle[n]=((bin_edges[n]+bin_edges[n+1])/2)\n",
    "#scaledhist=hist/hist[0]\n",
    "\n",
    "\n",
    "popt, pcov = curve_fit(MyFunction, bin_middle, hist)#curve fit to simulated data\n",
    "scaledhist=hist/MyFunction(bin_middle[0],popt[0])\n",
    "ax4.plot(bin_middle,scaledhist, label='simulated data')\n",
    "\n",
    "ax4.plot(bin_middle, MyFunction(bin_middle,popt[0])/MyFunction(bin_middle[0],popt[0]), label='best fit')\n",
    "print (popt * MyFunction(bin_middle[0],popt[0]))\n",
    "print (pcov)\n",
    "ax4.legend()\n",
    "plt.show()\n"
   ]
  },
  {
   "cell_type": "markdown",
   "metadata": {},
   "source": [
    "### Interpolation\n",
    "\n",
    "One of the problems that you will encounter when working discrete data sets will be, for example how do you decide if your simulated value is above/below a curve if your random point does not match up with a value in your data file.  Here the data file will not have values for $f(x)$ at the randomly generated value of $x$, and you do not have a functional form of the equation such that you could evaluate the function at any arbitrary value.\n",
    "\n",
    "One simple solution is to use the *scipy.interpolate* package to generate a new value of *f* in-between the values that you have already. The following code example fits using some data from the CRXO website and *scipy.interpolate.interp1d* to interpolate both *linearly* and using a *cubic spline* fit to evaluate the function at some arbitrary values of *E*. An alternative would be to use *curve_fit* with a trial function (maybe a higher order polynomial to fit the whole data set), or to divide the data up into bins in $E$, and assign a mean value if $f$.\n"
   ]
  },
  {
   "cell_type": "code",
   "execution_count": 15,
   "metadata": {},
   "outputs": [
    {
     "data": {
      "application/vnd.jupyter.widget-view+json": {
       "model_id": "46856c5008994633955d119ba023a7b2",
       "version_major": 2,
       "version_minor": 0
      },
      "text/plain": [
       "Canvas(toolbar=Toolbar(toolitems=[('Home', 'Reset original view', 'home', 'home'), ('Back', 'Back to previous …"
      ]
     },
     "metadata": {},
     "output_type": "display_data"
    },
    {
     "data": {
      "text/plain": [
       "<matplotlib.legend.Legend at 0x7fc146124dc0>"
      ]
     },
     "execution_count": 15,
     "metadata": {},
     "output_type": "execute_result"
    }
   ],
   "source": [
    "from scipy.interpolate import interp1d\n",
    "import matplotlib.pyplot as plt\n",
    "import numpy as np\n",
    "\n",
    "sd=np.loadtxt('ray.txt')# data from http://henke.lbl.gov/optical_constants/bend2.html\n",
    "\n",
    "x=sd[:,0]\n",
    "y=sd[:,1]\n",
    "f = interp1d(x, y)\n",
    "f2 = interp1d(x, y, kind='cubic')\n",
    "z=[100.1,150.7,1001.3,2007.5,2300.1,9500.1]\n",
    "\n",
    "fig5=plt.figure()\n",
    "ax5=fig5.add_subplot(1, 1, 1)\n",
    "ax5.scatter(x,y, label='data')\n",
    "ax5.scatter(z,f(z),c='g',label='linear')\n",
    "ax5.scatter(z,f2(z),c='r',label='cubic')\n",
    "ax5.legend()\n"
   ]
  },
  {
   "cell_type": "code",
   "execution_count": null,
   "metadata": {},
   "outputs": [],
   "source": [
    "#ignore this, it's something that helps styling the notebook.\n",
    "from IPython.core.display import HTML\n",
    "def css_styling():\n",
    "    styles = open(\"custom.css\", \"r\").read()\n",
    "    return HTML(styles)\n",
    "css_styling()"
   ]
  }
 ],
 "metadata": {
  "kernelspec": {
   "display_name": "Python 3 (system-wide)",
   "language": "python",
   "name": "python3"
  },
  "language_info": {
   "codemirror_mode": {
    "name": "ipython",
    "version": 3
   },
   "file_extension": ".py",
   "mimetype": "text/x-python",
   "name": "python",
   "nbconvert_exporter": "python",
   "pygments_lexer": "ipython3",
   "version": "3.8.5"
  }
 },
 "nbformat": 4,
 "nbformat_minor": 4
}
