{
 "cells": [
  {
   "cell_type": "code",
   "execution_count": 1,
   "metadata": {},
   "outputs": [
    {
     "output_type": "error",
     "ename": "NameError",
     "evalue": "name 'np' is not defined",
     "traceback": [
      "\u001b[0;31m---------------------------------------------------------------------------\u001b[0m",
      "\u001b[0;31mNameError\u001b[0m                                 Traceback (most recent call last)",
      "\u001b[0;32m<ipython-input-1-ae67c287a53a>\u001b[0m in \u001b[0;36m<module>\u001b[0;34m\u001b[0m\n\u001b[0;32m----> 1\u001b[0;31m \u001b[0mh\u001b[0m \u001b[0;34m=\u001b[0m \u001b[0mnp\u001b[0m\u001b[0;34m.\u001b[0m\u001b[0marray\u001b[0m\u001b[0;34m(\u001b[0m\u001b[0;34m[\u001b[0m\u001b[0;36m300\u001b[0m\u001b[0;34m,\u001b[0m \u001b[0;36m600\u001b[0m\u001b[0;34m,\u001b[0m \u001b[0;36m800\u001b[0m\u001b[0;34m,\u001b[0m \u001b[0;36m828\u001b[0m\u001b[0;34m,\u001b[0m \u001b[0;36m1000\u001b[0m\u001b[0;34m]\u001b[0m\u001b[0;34m)\u001b[0m\u001b[0;34m\u001b[0m\u001b[0;34m\u001b[0m\u001b[0m\n\u001b[0m\u001b[1;32m      2\u001b[0m \u001b[0md\u001b[0m \u001b[0;34m=\u001b[0m \u001b[0mnp\u001b[0m\u001b[0;34m.\u001b[0m\u001b[0marray\u001b[0m\u001b[0;34m(\u001b[0m\u001b[0;34m[\u001b[0m\u001b[0;36m800\u001b[0m\u001b[0;34m,\u001b[0m \u001b[0;36m1172\u001b[0m\u001b[0;34m,\u001b[0m \u001b[0;36m1328\u001b[0m\u001b[0;34m,\u001b[0m \u001b[0;36m1340\u001b[0m\u001b[0;34m,\u001b[0m \u001b[0;36m1500\u001b[0m\u001b[0;34m]\u001b[0m\u001b[0;34m)\u001b[0m\u001b[0;34m\u001b[0m\u001b[0;34m\u001b[0m\u001b[0m\n\u001b[1;32m      3\u001b[0m \u001b[0msig\u001b[0m \u001b[0;34m=\u001b[0m \u001b[0mnp\u001b[0m\u001b[0;34m.\u001b[0m\u001b[0marray\u001b[0m\u001b[0;34m(\u001b[0m\u001b[0;34m[\u001b[0m\u001b[0;36m15\u001b[0m\u001b[0;34m,\u001b[0m \u001b[0;36m15\u001b[0m\u001b[0;34m,\u001b[0m \u001b[0;36m15\u001b[0m\u001b[0;34m,\u001b[0m \u001b[0;36m15\u001b[0m\u001b[0;34m,\u001b[0m \u001b[0;36m15\u001b[0m\u001b[0;34m]\u001b[0m\u001b[0;34m)\u001b[0m\u001b[0;34m\u001b[0m\u001b[0;34m\u001b[0m\u001b[0m\n\u001b[1;32m      4\u001b[0m \u001b[0;34m\u001b[0m\u001b[0m\n\u001b[1;32m      5\u001b[0m \u001b[0;31m## Hypotheses\u001b[0m\u001b[0;34m\u001b[0m\u001b[0;34m\u001b[0m\u001b[0;34m\u001b[0m\u001b[0m\n",
      "\u001b[0;31mNameError\u001b[0m: name 'np' is not defined"
     ]
    }
   ],
   "source": [
    "h = np.array([300, 600, 800, 828, 1000])\n",
    "d = np.array([800, 1172, 1328, 1340, 1500])\n",
    "sig = np.array([15, 15, 15, 15, 15])\n",
    "\n",
    "## Hypotheses\n",
    "\n",
    "def f1(h, *vars):\n",
    "    a, = vars\n",
    "    return a*h\n",
    "\n",
    "def f2(h, *vars):\n",
    "    a, b = vars\n",
    "    return a*h + b*h**2\n",
    "\n",
    "def f3(h, *vars):\n",
    "    a, b = vars\n",
    "    return a*h**b\n",
    "\n",
    "## Least squares\n",
    "\n",
    "p0_one = np.array([1.0])\n",
    "theta_hat_one, covariance_one = curve_fit(f1, h, d, p0_one, sig, absolute_sigma=True)\n",
    "\n",
    "p0_two = np.array([1.0, 1.0])\n",
    "theta_hat_two, covariance_two = curve_fit(f2, h, d, p0_two, sig, absolute_sigma=True)\n",
    "\n",
    "p0_three = np.array([1.0, 1.0])\n",
    "theta_hat_three, covariance_three = curve_fit(f3, h, d, p0_three, sig, absolute_sigma=True)\n",
    "\n",
    "## Curve fitting\n",
    "\n",
    "fit_one = np.vectorize(lambda h : theta_hat_one[0]*h)\n",
    "fit_two = np.vectorize(lambda h : theta_hat_two[0]*h + theta_hat_two[1]*h**2)\n",
    "fit_three = np.vectorize(lambda h : theta_hat_three[0]*h**theta_hat_three[1])\n",
    "\n",
    "## Plotting\n",
    "\n",
    "## Create plots\n",
    "fig4 = plt.figure()\n",
    "fig5 = plt.figure()\n",
    "fig6 = plt.figure()\n",
    "ax4 = fig4.add_subplot()\n",
    "ax5 = fig5.add_subplot()\n",
    "ax6 = fig6.add_subplot()\n",
    "\n",
    "h_val = np.arange(0, 2000, 10)\n",
    "\n",
    "## Plot given data with sigma\n",
    "ax4.errorbar(h, d, yerr=15, fmt='kx')\n",
    "ax4.plot(h_val, fit_one(h_val), 'r', label=\"first hypothesis\")\n",
    "\n",
    "ax5.errorbar(h, d, yerr=15, fmt='kx')\n",
    "ax5.plot(h_val, fit_two(h_val), 'g', label=\"second hypothesis\")\n",
    "\n",
    "ax6.errorbar(h, d, yerr=15, fmt='kx')\n",
    "ax6.plot(h_val, fit_three(h_val), 'b', label=\"second hypothesis\")\n",
    "\n"
   ]
  },
  {
   "source": [
    "# Notes\n",
    "\n",
    "- Analysing Gallileo's experiment\n",
    "- Similarity\n",
    "    - Shorter dataset\n",
    "    - Fitting procedure is the same"
   ],
   "cell_type": "markdown",
   "metadata": {}
  },
  {
   "cell_type": "code",
   "execution_count": null,
   "metadata": {},
   "outputs": [],
   "source": []
  }
 ],
 "metadata": {
  "kernelspec": {
   "display_name": "Python 3",
   "language": "python",
   "name": "python3"
  },
  "language_info": {
   "codemirror_mode": {
    "name": "ipython",
    "version": 3
   },
   "file_extension": ".py",
   "mimetype": "text/x-python",
   "name": "python",
   "nbconvert_exporter": "python",
   "pygments_lexer": "ipython3",
   "version": "3.8.6-final"
  }
 },
 "nbformat": 4,
 "nbformat_minor": 4
}